{
 "cells": [
  {
   "cell_type": "markdown",
   "id": "f4dc0825",
   "metadata": {},
   "source": [
    "<a href='http://m.site.naver.com/0ZMyL'><img src='https://qrcodethumb-phinf.pstatic.net/20220721_243/1658362169896Lk8dk_PNG/0ZMyL.png'/></a>\n",
    "\n",
    "- 주소: https://sites.google.com/view/minds-academy-2th/\n",
    "- 실습 자료 클릭 -> 우측 상단 다운로드 아이콘 클릭 -> 저장 및 압축 풀기 -> 주피터 파일 업로드"
   ]
  },
  {
   "cell_type": "markdown",
   "id": "698f5766",
   "metadata": {},
   "source": [
    "# 1. 머신러닝과 딥러닝 실습"
   ]
  },
  {
   "cell_type": "code",
   "execution_count": 3,
   "id": "9cd73c6c",
   "metadata": {},
   "outputs": [],
   "source": [
    "import pylab\n",
    "import numpy as np\n",
    "\n",
    "수학 = np.array([32, 43, 65, 76, 60, 89, 98, 58, 73])\n",
    "과학 = np.array([40, 59, 70, 80, 58, 95, 98, 65, 68])"
   ]
  },
  {
   "cell_type": "markdown",
   "id": "7196b170",
   "metadata": {},
   "source": [
    "## 1.1 인공지능이 만들어주는 모델\n",
    "\n",
    "위에서 우리는 그래프를 보고 직접 매개변수인 `a`와 `b`를 지정해 주었습니다. 사람이 데이터를 보고 직접 모델을 만들어 준 것이죠. 인공지능은 사람이 하는 일을 대신 해주죠? 인공지능, 더 정확히는 **기계학습 (machine learning)** 은 사람 대신에 데이터를 보고, 데이터를 가장 잘 설명할 수 있는 매개변수를 결정해주는 방법론입니다.\n",
    "\n",
    "그럼, 기계학습은 어떻게 가장 좋은 매개변수를 결정해줄까요? 매개변수가 정해지면 모델의 모양이 결정됩니다. 모델의 모양이 결정되면 모델이 예측한 과학 점수와 $f(x)$와 실제 학생의 과학 점수의 차이를 계산할 수 있게 됩니다. 과학 점수를 잘 예측하는 모델일수록 예측 점수와 실제 점수 사이의 오차가 작을 것입니다. 우리는 모든 데이터에서 발생한 오차의 제곱의 합을 가장 작게 만들어주는 매개변수를 찾아서 사용하게 됩니다. \n",
    "\n",
    "$$\n",
    "\\begin{matrix}\n",
    "a^{*}, b^{*} & = & \\operatorname*{argmin}\\sum\\limits_{i=1}^{9}\\left( \\text{과학}_i - f(\\text{수학}_i) \\right)^2 \\\\\n",
    " & = & \\operatorname*{argmin}\\sum\\limits_{i=1}^{9}\\left( \\text{과학}_i - (a\\times\\text{수학}_i + b) \\right)^2\n",
    "\\end{matrix}\n",
    "$$"
   ]
  },
  {
   "cell_type": "markdown",
   "id": "51b001c8",
   "metadata": {},
   "source": [
    "그럼, 기계학습 모델을 사용하여 매개변수를 찾아볼까요? `torch`라는 것은 기계학습 모델 중에서도 딥러닝 모델을 만들 때 사용하는 패키지입니다. `nn.Linear`는 위에서 본 선형모델을 만들어주는 기능을 합니다. 우리의 경우 독립 변수가 하나, 종속 변수가 하나이기 때문에 `nn.Linear`의 첫 번쨰, 두 번째 인자를 각각 1로 넣어주게 됩니다."
   ]
  },
  {
   "cell_type": "code",
   "execution_count": 4,
   "id": "86786828",
   "metadata": {},
   "outputs": [],
   "source": [
    "import torch.nn as nn\n",
    "\n",
    "model = nn.Linear(1, 1)"
   ]
  },
  {
   "cell_type": "code",
   "execution_count": 10,
   "id": "d5fe2cc1",
   "metadata": {},
   "outputs": [
    {
     "data": {
      "application/vnd.jupyter.widget-view+json": {
       "model_id": "e7a809a66f1f4db1a2cd9c4c51d82abe",
       "version_major": 2,
       "version_minor": 0
      },
      "text/plain": [
       "Log:   0%|          | 0/1000 [00:00<?, ?it/s]"
      ]
     },
     "metadata": {},
     "output_type": "display_data"
    }
   ],
   "source": [
    "from academy import train\n",
    "\n",
    "train(model, 수학, 과학, epochs=1000)"
   ]
  },
  {
   "cell_type": "markdown",
   "id": "9f1a184d",
   "metadata": {},
   "source": [
    "모델이 만들어지면, `academy`에 있는 `train`을 사용해서 모델의 매개변수를 찾아주는 학습을 진행할 수 있습니다. `epochs` 인자는 데이터를 몇 번 반복해서 볼 것인지 결정해주고, `lr`은 매개변수를 얼마나 조금씩 수정해나갈 것인지 결정해주는 인자입니다. "
   ]
  },
  {
   "cell_type": "code",
   "execution_count": 8,
   "id": "d3330a2c",
   "metadata": {},
   "outputs": [
    {
     "data": {
      "text/plain": [
       "Parameter containing:\n",
       "tensor([0.9336], requires_grad=True)"
      ]
     },
     "execution_count": 8,
     "metadata": {},
     "output_type": "execute_result"
    }
   ],
   "source": [
    "model.bias"
   ]
  },
  {
   "cell_type": "markdown",
   "id": "edbcd389",
   "metadata": {},
   "source": [
    "모델의 매개변수는 다음과 같이 불러올 수 있습니다. 독립변수에 곱해지는 매개변수는 `model.weight`에 저장되어 있고, y절편 역할을 하는 매개변수는 `model.bias`에 저장되어 있습니다."
   ]
  },
  {
   "cell_type": "code",
   "execution_count": 11,
   "id": "ad083159",
   "metadata": {},
   "outputs": [
    {
     "name": "stdout",
     "output_type": "stream",
     "text": [
      "0.9926321506500244 1.865939974784851\n"
     ]
    },
    {
     "data": {
      "text/plain": [
       "[<matplotlib.lines.Line2D at 0x15371de50>]"
      ]
     },
     "execution_count": 11,
     "metadata": {},
     "output_type": "execute_result"
    },
    {
     "data": {
      "image/png": "[encoded data removed]",
      "text/plain": [
       "<Figure size 432x288 with 1 Axes>"
      ]
     },
     "metadata": {
      "needs_background": "light"
     },
     "output_type": "display_data"
    }
   ],
   "source": [
    "import matplotlib.pyplot as plt\n",
    "\n",
    "a = model.weight.item()\n",
    "b = model.bias.item()\n",
    "\n",
    "print(a, b)\n",
    "\n",
    "x = np.array([30, 100])\n",
    "y = a * x + b\n",
    "\n",
    "plt.plot(수학, 과학, 'o')\n",
    "plt.plot(x, y, 'r-')"
   ]
  },
  {
   "cell_type": "markdown",
   "id": "1da7819f",
   "metadata": {},
   "source": [
    "지금까지 우리는 하나의 독립변수로 하나의 종속변수를 예측하는 모델을 만들어 보았습니다. 하지만 현실의 데이터는 훨씬 더 많은 독립 변수를 갖고 있습니다. 독립변수가 많아져도 선형모델은 여전히 같은 원리로 종속변수를 예측합니다. 예를 들어 5개의 독립변수를 사용하는 선형모델은 다음 식으로 종속변수를 예측합니다.\n",
    "\n",
    "$$\\hat{Y}=w_1X_1+w_2X_2+w_3X_3+w_4X_4+w_5X_5+w_6$$\n",
    "\n",
    "이를 그림으로 도식화해보면 다음과 같습니다.\n",
    "\n",
    "![mlr](https://raw.githubusercontent.com/postech-minds/math-academy-2th/master/mlr.png)\n",
    "\n",
    "매개변수 $w_1, \\cdots, w_6$ 중에서 실제 종속변수 값과 모델의 예측값 사이의 오차를 가장 작게 만들어주는 매개변수를 찾게 됩니다. \n",
    "\n",
    "$$w_1^*,\\cdots,w_6^* = \\operatorname*{argmin}\\limits_{w_1,w_2,\\cdots,w_6}\\sum\\limits_{(X, Y) \\in \\mathbb{D}}\\left(Y-\\hat{Y}\\right)^2$$\n"
   ]
  },
  {
   "cell_type": "markdown",
   "id": "97b6d045",
   "metadata": {},
   "source": [
    "## 1.2 딥러닝이 그리는 사인 곡선\n",
    "앞에서 말했던 것처럼 선형모델은 독립변수와 종속변수 사이의 선형관계 밖에 설명하지 못하는 모델입니다. 최근에 많이 대두되고 있는 딥러닝 모델들은 변수 사이의 선형관계를 넘어서 아주 복잡한 관계까지 설명할 수 있습니다. 이번에는 딥러닝으로 사인 곡선을 만들어보도록 하겠습니다.\n",
    "\n",
    "<br>\n",
    "\n",
    "먼저 $0\\le x \\le 2\\pi$를 400등분하여 `x` 변수에 넣고, 각 위치에서 사인값을 `f` 변수에 넣도록 하겠습니다."
   ]
  },
  {
   "cell_type": "code",
   "execution_count": 13,
   "id": "dc170514",
   "metadata": {},
   "outputs": [],
   "source": [
    "import numpy as np\n",
    "\n",
    "x = np.linspace(0, 2*np.pi, 400)\n",
    "f = np.sin(x)"
   ]
  },
  {
   "cell_type": "markdown",
   "id": "b5d7846d",
   "metadata": {},
   "source": [
    "`x`와 `f`를 각각 출력해보면 다음과 같습니다."
   ]
  },
  {
   "cell_type": "code",
   "execution_count": 14,
   "id": "85f9583d",
   "metadata": {
    "scrolled": true
   },
   "outputs": [
    {
     "data": {
      "text/plain": [
       "array([0.        , 0.01574733, 0.03149466, 0.04724199, 0.06298933,\n",
       "       0.07873666, 0.09448399, 0.11023132, 0.12597865, 0.14172598,\n",
       "       0.15747332, 0.17322065, 0.18896798, 0.20471531, 0.22046264,\n",
       "       0.23620997, 0.25195731, 0.26770464, 0.28345197, 0.2991993 ,\n",
       "       0.31494663, 0.33069396, 0.3464413 , 0.36218863, 0.37793596,\n",
       "       0.39368329, 0.40943062, 0.42517795, 0.44092528, 0.45667262,\n",
       "       0.47241995, 0.48816728, 0.50391461, 0.51966194, 0.53540927,\n",
       "       0.55115661, 0.56690394, 0.58265127, 0.5983986 , 0.61414593,\n",
       "       0.62989326, 0.6456406 , 0.66138793, 0.67713526, 0.69288259,\n",
       "       0.70862992, 0.72437725, 0.74012459, 0.75587192, 0.77161925,\n",
       "       0.78736658, 0.80311391, 0.81886124, 0.83460857, 0.85035591,\n",
       "       0.86610324, 0.88185057, 0.8975979 , 0.91334523, 0.92909256,\n",
       "       0.9448399 , 0.96058723, 0.97633456, 0.99208189, 1.00782922,\n",
       "       1.02357655, 1.03932389, 1.05507122, 1.07081855, 1.08656588,\n",
       "       1.10231321, 1.11806054, 1.13380787, 1.14955521, 1.16530254,\n",
       "       1.18104987, 1.1967972 , 1.21254453, 1.22829186, 1.2440392 ,\n",
       "       1.25978653, 1.27553386, 1.29128119, 1.30702852, 1.32277585,\n",
       "       1.33852319, 1.35427052, 1.37001785, 1.38576518, 1.40151251,\n",
       "       1.41725984, 1.43300718, 1.44875451, 1.46450184, 1.48024917,\n",
       "       1.4959965 , 1.51174383, 1.52749116, 1.5432385 , 1.55898583,\n",
       "       1.57473316, 1.59048049, 1.60622782, 1.62197515, 1.63772249,\n",
       "       1.65346982, 1.66921715, 1.68496448, 1.70071181, 1.71645914,\n",
       "       1.73220648, 1.74795381, 1.76370114, 1.77944847, 1.7951958 ,\n",
       "       1.81094313, 1.82669047, 1.8424378 , 1.85818513, 1.87393246,\n",
       "       1.88967979, 1.90542712, 1.92117445, 1.93692179, 1.95266912,\n",
       "       1.96841645, 1.98416378, 1.99991111, 2.01565844, 2.03140578,\n",
       "       2.04715311, 2.06290044, 2.07864777, 2.0943951 , 2.11014243,\n",
       "       2.12588977, 2.1416371 , 2.15738443, 2.17313176, 2.18887909,\n",
       "       2.20462642, 2.22037376, 2.23612109, 2.25186842, 2.26761575,\n",
       "       2.28336308, 2.29911041, 2.31485774, 2.33060508, 2.34635241,\n",
       "       2.36209974, 2.37784707, 2.3935944 , 2.40934173, 2.42508907,\n",
       "       2.4408364 , 2.45658373, 2.47233106, 2.48807839, 2.50382572,\n",
       "       2.51957306, 2.53532039, 2.55106772, 2.56681505, 2.58256238,\n",
       "       2.59830971, 2.61405705, 2.62980438, 2.64555171, 2.66129904,\n",
       "       2.67704637, 2.6927937 , 2.70854103, 2.72428837, 2.7400357 ,\n",
       "       2.75578303, 2.77153036, 2.78727769, 2.80302502, 2.81877236,\n",
       "       2.83451969, 2.85026702, 2.86601435, 2.88176168, 2.89750901,\n",
       "       2.91325635, 2.92900368, 2.94475101, 2.96049834, 2.97624567,\n",
       "       2.991993  , 3.00774034, 3.02348767, 3.039235  , 3.05498233,\n",
       "       3.07072966, 3.08647699, 3.10222432, 3.11797166, 3.13371899,\n",
       "       3.14946632, 3.16521365, 3.18096098, 3.19670831, 3.21245565,\n",
       "       3.22820298, 3.24395031, 3.25969764, 3.27544497, 3.2911923 ,\n",
       "       3.30693964, 3.32268697, 3.3384343 , 3.35418163, 3.36992896,\n",
       "       3.38567629, 3.40142362, 3.41717096, 3.43291829, 3.44866562,\n",
       "       3.46441295, 3.48016028, 3.49590761, 3.51165495, 3.52740228,\n",
       "       3.54314961, 3.55889694, 3.57464427, 3.5903916 , 3.60613894,\n",
       "       3.62188627, 3.6376336 , 3.65338093, 3.66912826, 3.68487559,\n",
       "       3.70062293, 3.71637026, 3.73211759, 3.74786492, 3.76361225,\n",
       "       3.77935958, 3.79510691, 3.81085425, 3.82660158, 3.84234891,\n",
       "       3.85809624, 3.87384357, 3.8895909 , 3.90533824, 3.92108557,\n",
       "       3.9368329 , 3.95258023, 3.96832756, 3.98407489, 3.99982223,\n",
       "       4.01556956, 4.03131689, 4.04706422, 4.06281155, 4.07855888,\n",
       "       4.09430622, 4.11005355, 4.12580088, 4.14154821, 4.15729554,\n",
       "       4.17304287, 4.1887902 , 4.20453754, 4.22028487, 4.2360322 ,\n",
       "       4.25177953, 4.26752686, 4.28327419, 4.29902153, 4.31476886,\n",
       "       4.33051619, 4.34626352, 4.36201085, 4.37775818, 4.39350552,\n",
       "       4.40925285, 4.42500018, 4.44074751, 4.45649484, 4.47224217,\n",
       "       4.48798951, 4.50373684, 4.51948417, 4.5352315 , 4.55097883,\n",
       "       4.56672616, 4.58247349, 4.59822083, 4.61396816, 4.62971549,\n",
       "       4.64546282, 4.66121015, 4.67695748, 4.69270482, 4.70845215,\n",
       "       4.72419948, 4.73994681, 4.75569414, 4.77144147, 4.78718881,\n",
       "       4.80293614, 4.81868347, 4.8344308 , 4.85017813, 4.86592546,\n",
       "       4.8816728 , 4.89742013, 4.91316746, 4.92891479, 4.94466212,\n",
       "       4.96040945, 4.97615678, 4.99190412, 5.00765145, 5.02339878,\n",
       "       5.03914611, 5.05489344, 5.07064077, 5.08638811, 5.10213544,\n",
       "       5.11788277, 5.1336301 , 5.14937743, 5.16512476, 5.1808721 ,\n",
       "       5.19661943, 5.21236676, 5.22811409, 5.24386142, 5.25960875,\n",
       "       5.27535608, 5.29110342, 5.30685075, 5.32259808, 5.33834541,\n",
       "       5.35409274, 5.36984007, 5.38558741, 5.40133474, 5.41708207,\n",
       "       5.4328294 , 5.44857673, 5.46432406, 5.4800714 , 5.49581873,\n",
       "       5.51156606, 5.52731339, 5.54306072, 5.55880805, 5.57455539,\n",
       "       5.59030272, 5.60605005, 5.62179738, 5.63754471, 5.65329204,\n",
       "       5.66903937, 5.68478671, 5.70053404, 5.71628137, 5.7320287 ,\n",
       "       5.74777603, 5.76352336, 5.7792707 , 5.79501803, 5.81076536,\n",
       "       5.82651269, 5.84226002, 5.85800735, 5.87375469, 5.88950202,\n",
       "       5.90524935, 5.92099668, 5.93674401, 5.95249134, 5.96823868,\n",
       "       5.98398601, 5.99973334, 6.01548067, 6.031228  , 6.04697533,\n",
       "       6.06272266, 6.07847   , 6.09421733, 6.10996466, 6.12571199,\n",
       "       6.14145932, 6.15720665, 6.17295399, 6.18870132, 6.20444865,\n",
       "       6.22019598, 6.23594331, 6.25169064, 6.26743798, 6.28318531])"
      ]
     },
     "execution_count": 14,
     "metadata": {},
     "output_type": "execute_result"
    }
   ],
   "source": [
    "x"
   ]
  },
  {
   "cell_type": "code",
   "execution_count": 15,
   "id": "cba21a4e",
   "metadata": {
    "scrolled": true
   },
   "outputs": [
    {
     "data": {
      "text/plain": [
       "array([ 0.00000000e+00,  1.57466808e-02,  3.14894568e-02,  4.72244243e-02,\n",
       "        6.29476813e-02,  7.86553291e-02,  9.43434724e-02,  1.10008221e-01,\n",
       "        1.25645691e-01,  1.41252003e-01,  1.56823289e-01,  1.72355687e-01,\n",
       "        1.87845346e-01,  2.03288424e-01,  2.18681091e-01,  2.34019532e-01,\n",
       "        2.49299942e-01,  2.64518532e-01,  2.79671529e-01,  2.94755174e-01,\n",
       "        3.09765729e-01,  3.24699469e-01,  3.39552693e-01,  3.54321717e-01,\n",
       "        3.69002878e-01,  3.83592537e-01,  3.98087075e-01,  4.12482897e-01,\n",
       "        4.26776435e-01,  4.40964144e-01,  4.55042506e-01,  4.69008029e-01,\n",
       "        4.82857251e-01,  4.96586737e-01,  5.10193083e-01,  5.23672914e-01,\n",
       "        5.37022889e-01,  5.50239696e-01,  5.63320058e-01,  5.76260732e-01,\n",
       "        5.89058509e-01,  6.01710215e-01,  6.14212713e-01,  6.26562902e-01,\n",
       "        6.38757721e-01,  6.50794145e-01,  6.62669189e-01,  6.74379909e-01,\n",
       "        6.85923400e-01,  6.97296801e-01,  7.08497291e-01,  7.19522092e-01,\n",
       "        7.30368472e-01,  7.41033739e-01,  7.51515250e-01,  7.61810405e-01,\n",
       "        7.71916651e-01,  7.81831482e-01,  7.91552441e-01,  8.01077115e-01,\n",
       "        8.10403144e-01,  8.19528214e-01,  8.28450063e-01,  8.37166478e-01,\n",
       "        8.45675299e-01,  8.53974414e-01,  8.62061767e-01,  8.69935352e-01,\n",
       "        8.77593215e-01,  8.85033459e-01,  8.92254239e-01,  8.99253763e-01,\n",
       "        9.06030296e-01,  9.12582157e-01,  9.18907723e-01,  9.25005424e-01,\n",
       "        9.30873749e-01,  9.36511241e-01,  9.41916504e-01,  9.47088197e-01,\n",
       "        9.52025036e-01,  9.56725800e-01,  9.61189320e-01,  9.65414492e-01,\n",
       "        9.69400266e-01,  9.73145655e-01,  9.76649730e-01,  9.79911621e-01,\n",
       "        9.82930521e-01,  9.85705680e-01,  9.88236410e-01,  9.90522085e-01,\n",
       "        9.92562136e-01,  9.94356058e-01,  9.95903406e-01,  9.97203797e-01,\n",
       "        9.98256908e-01,  9.99062478e-01,  9.99620307e-01,  9.99930257e-01,\n",
       "        9.99992251e-01,  9.99806273e-01,  9.99372370e-01,  9.98690650e-01,\n",
       "        9.97761280e-01,  9.96584493e-01,  9.95160579e-01,  9.93489892e-01,\n",
       "        9.91572846e-01,  9.89409916e-01,  9.87001640e-01,  9.84348612e-01,\n",
       "        9.81451493e-01,  9.78311000e-01,  9.74927912e-01,  9.71303068e-01,\n",
       "        9.67437367e-01,  9.63331766e-01,  9.58987286e-01,  9.54405002e-01,\n",
       "        9.49586051e-01,  9.44531628e-01,  9.39242986e-01,  9.33721438e-01,\n",
       "        9.27968351e-01,  9.21985153e-01,  9.15773327e-01,  9.09334413e-01,\n",
       "        9.02670009e-01,  8.95781767e-01,  8.88671395e-01,  8.81340656e-01,\n",
       "        8.73791369e-01,  8.66025404e-01,  8.58044688e-01,  8.49851200e-01,\n",
       "        8.41446971e-01,  8.32834086e-01,  8.24014680e-01,  8.14990941e-01,\n",
       "        8.05765106e-01,  7.96339462e-01,  7.86716348e-01,  7.76898148e-01,\n",
       "        7.66887299e-01,  7.56686282e-01,  7.46297627e-01,  7.35723911e-01,\n",
       "        7.24967754e-01,  7.14031825e-01,  7.02918835e-01,  6.91631539e-01,\n",
       "        6.80172738e-01,  6.68545272e-01,  6.56752024e-01,  6.44795920e-01,\n",
       "        6.32679923e-01,  6.20407038e-01,  6.07980309e-01,  5.95402818e-01,\n",
       "        5.82677682e-01,  5.69808058e-01,  5.56797136e-01,  5.43648144e-01,\n",
       "        5.30364341e-01,  5.16949022e-01,  5.03405514e-01,  4.89737174e-01,\n",
       "        4.75947393e-01,  4.62039590e-01,  4.48017212e-01,  4.33883739e-01,\n",
       "        4.19642674e-01,  4.05297549e-01,  3.90851921e-01,  3.76309372e-01,\n",
       "        3.61673508e-01,  3.46947959e-01,  3.32136376e-01,  3.17242433e-01,\n",
       "        3.02269821e-01,  2.87222255e-01,  2.72103465e-01,  2.56917201e-01,\n",
       "        2.41667228e-01,  2.26357328e-01,  2.10991297e-01,  1.95572947e-01,\n",
       "        1.80106099e-01,  1.64594590e-01,  1.49042266e-01,  1.33452984e-01,\n",
       "        1.17830608e-01,  1.02179014e-01,  8.65020820e-02,  7.08036999e-02,\n",
       "        5.50877604e-02,  3.93581605e-02,  2.36188009e-02,  7.87358444e-03,\n",
       "       -7.87358444e-03, -2.36188009e-02, -3.93581605e-02, -5.50877604e-02,\n",
       "       -7.08036999e-02, -8.65020820e-02, -1.02179014e-01, -1.17830608e-01,\n",
       "       -1.33452984e-01, -1.49042266e-01, -1.64594590e-01, -1.80106099e-01,\n",
       "       -1.95572947e-01, -2.10991297e-01, -2.26357328e-01, -2.41667228e-01,\n",
       "       -2.56917201e-01, -2.72103465e-01, -2.87222255e-01, -3.02269821e-01,\n",
       "       -3.17242433e-01, -3.32136376e-01, -3.46947959e-01, -3.61673508e-01,\n",
       "       -3.76309372e-01, -3.90851921e-01, -4.05297549e-01, -4.19642674e-01,\n",
       "       -4.33883739e-01, -4.48017212e-01, -4.62039590e-01, -4.75947393e-01,\n",
       "       -4.89737174e-01, -5.03405514e-01, -5.16949022e-01, -5.30364341e-01,\n",
       "       -5.43648144e-01, -5.56797136e-01, -5.69808058e-01, -5.82677682e-01,\n",
       "       -5.95402818e-01, -6.07980309e-01, -6.20407038e-01, -6.32679923e-01,\n",
       "       -6.44795920e-01, -6.56752024e-01, -6.68545272e-01, -6.80172738e-01,\n",
       "       -6.91631539e-01, -7.02918835e-01, -7.14031825e-01, -7.24967754e-01,\n",
       "       -7.35723911e-01, -7.46297627e-01, -7.56686282e-01, -7.66887299e-01,\n",
       "       -7.76898148e-01, -7.86716348e-01, -7.96339462e-01, -8.05765106e-01,\n",
       "       -8.14990941e-01, -8.24014680e-01, -8.32834086e-01, -8.41446971e-01,\n",
       "       -8.49851200e-01, -8.58044688e-01, -8.66025404e-01, -8.73791369e-01,\n",
       "       -8.81340656e-01, -8.88671395e-01, -8.95781767e-01, -9.02670009e-01,\n",
       "       -9.09334413e-01, -9.15773327e-01, -9.21985153e-01, -9.27968351e-01,\n",
       "       -9.33721438e-01, -9.39242986e-01, -9.44531628e-01, -9.49586051e-01,\n",
       "       -9.54405002e-01, -9.58987286e-01, -9.63331766e-01, -9.67437367e-01,\n",
       "       -9.71303068e-01, -9.74927912e-01, -9.78311000e-01, -9.81451493e-01,\n",
       "       -9.84348612e-01, -9.87001640e-01, -9.89409916e-01, -9.91572846e-01,\n",
       "       -9.93489892e-01, -9.95160579e-01, -9.96584493e-01, -9.97761280e-01,\n",
       "       -9.98690650e-01, -9.99372370e-01, -9.99806273e-01, -9.99992251e-01,\n",
       "       -9.99930257e-01, -9.99620307e-01, -9.99062478e-01, -9.98256908e-01,\n",
       "       -9.97203797e-01, -9.95903406e-01, -9.94356058e-01, -9.92562136e-01,\n",
       "       -9.90522085e-01, -9.88236410e-01, -9.85705680e-01, -9.82930521e-01,\n",
       "       -9.79911621e-01, -9.76649730e-01, -9.73145655e-01, -9.69400266e-01,\n",
       "       -9.65414492e-01, -9.61189320e-01, -9.56725800e-01, -9.52025036e-01,\n",
       "       -9.47088197e-01, -9.41916504e-01, -9.36511241e-01, -9.30873749e-01,\n",
       "       -9.25005424e-01, -9.18907723e-01, -9.12582157e-01, -9.06030296e-01,\n",
       "       -8.99253763e-01, -8.92254239e-01, -8.85033459e-01, -8.77593215e-01,\n",
       "       -8.69935352e-01, -8.62061767e-01, -8.53974414e-01, -8.45675299e-01,\n",
       "       -8.37166478e-01, -8.28450063e-01, -8.19528214e-01, -8.10403144e-01,\n",
       "       -8.01077115e-01, -7.91552441e-01, -7.81831482e-01, -7.71916651e-01,\n",
       "       -7.61810405e-01, -7.51515250e-01, -7.41033739e-01, -7.30368472e-01,\n",
       "       -7.19522092e-01, -7.08497291e-01, -6.97296801e-01, -6.85923400e-01,\n",
       "       -6.74379909e-01, -6.62669189e-01, -6.50794145e-01, -6.38757721e-01,\n",
       "       -6.26562902e-01, -6.14212713e-01, -6.01710215e-01, -5.89058509e-01,\n",
       "       -5.76260732e-01, -5.63320058e-01, -5.50239696e-01, -5.37022889e-01,\n",
       "       -5.23672914e-01, -5.10193083e-01, -4.96586737e-01, -4.82857251e-01,\n",
       "       -4.69008029e-01, -4.55042506e-01, -4.40964144e-01, -4.26776435e-01,\n",
       "       -4.12482897e-01, -3.98087075e-01, -3.83592537e-01, -3.69002878e-01,\n",
       "       -3.54321717e-01, -3.39552693e-01, -3.24699469e-01, -3.09765729e-01,\n",
       "       -2.94755174e-01, -2.79671529e-01, -2.64518532e-01, -2.49299942e-01,\n",
       "       -2.34019532e-01, -2.18681091e-01, -2.03288424e-01, -1.87845346e-01,\n",
       "       -1.72355687e-01, -1.56823289e-01, -1.41252003e-01, -1.25645691e-01,\n",
       "       -1.10008221e-01, -9.43434724e-02, -7.86553291e-02, -6.29476813e-02,\n",
       "       -4.72244243e-02, -3.14894568e-02, -1.57466808e-02, -2.44929360e-16])"
      ]
     },
     "execution_count": 15,
     "metadata": {},
     "output_type": "execute_result"
    }
   ],
   "source": [
    "f"
   ]
  },
  {
   "cell_type": "markdown",
   "id": "0ee21e15",
   "metadata": {},
   "source": [
    "이 많은 데이터들을 눈으로 해석하기는 어렵기 때문에 시각화를 해서 봐보도록 하겠습니다."
   ]
  },
  {
   "cell_type": "code",
   "execution_count": 16,
   "id": "fe050787",
   "metadata": {},
   "outputs": [
    {
     "data": {
      "text/plain": [
       "[<matplotlib.lines.Line2D at 0x1548e3250>]"
      ]
     },
     "execution_count": 16,
     "metadata": {},
     "output_type": "execute_result"
    },
    {
     "data": {
      "image/png": "[encoded data removed]",
      "text/plain": [
       "<Figure size 432x288 with 1 Axes>"
      ]
     },
     "metadata": {
      "needs_background": "light"
     },
     "output_type": "display_data"
    }
   ],
   "source": [
    "import matplotlib.pyplot as plt\n",
    "\n",
    "plt.plot(x, f)"
   ]
  },
  {
   "cell_type": "markdown",
   "id": "7a53076f",
   "metadata": {},
   "source": [
    "사인 그래프에서 뽑은 400개의 데이터를 오직 직선만을 이용해서 효과적으로 나타낼 수 있을까요? 아무래도 어렵겠죠? 이런 직선과 다르게 사인 그래프처럼 구불구불 거리는 함수를 비선형 함수라고 합니다. 딥러닝을 이용하면 이런 비선형 함수에서 뽑은 데이터들도 효과적으로 모델링 수 있습니다."
   ]
  },
  {
   "cell_type": "markdown",
   "id": "d9acd9f3",
   "metadata": {},
   "source": [
    "노래를 포함한 모든 소리들은 시간에 따른 음의 높낮이로 나타낼 수 있습니다. 음의 높낮이를 일반적으로 신호라고 부릅니다. 이 사인 곡선을 시간에 따라 변하는 신호라고 생각해봅시다. 우리가 이번에 만들 모델은 과거의 10개 신호 값으로 다음 신호를 예측하는 모델을 만들어보겠습니다. 우리의 모델을 함수 $g$라고 하면 $g$는 과거 10개의 신호값을 받아서 다음 신호값을 출력해주는 함수입니다.\n",
    "\n",
    "$$ f_{t+1} \\approx g\\left(f_{t}, f_{t-1}, \\cdots, f_{t-9} \\right)$$\n",
    "\n",
    "<br>\n",
    "\n",
    "$f_{t+1}$은 $t+1$ 시점의 신호값이고, $g$는 과거 10개의 신호 $f_{t}, f_{t-1}, \\cdots, f_{t-9}$를 입력 받아서 최대한 $f_{t+1}$을 정확하게 예측해야 하는 모델입니다. 아래의 코드 셀에는 400개의 신호값에서 순차적으로 10개씩 떼어내서 `X` 변수에 저장하고, 다음 신호를 `y` 변수에 저장해놓았습니다. 우리의 딥러닝 모델은 `X`와 `y`를 여러번 보면서 가장 좋은 매개변수를 찾아낼 것입니다. "
   ]
  },
  {
   "cell_type": "code",
   "execution_count": 17,
   "id": "c58800cd",
   "metadata": {},
   "outputs": [],
   "source": [
    "X = []\n",
    "y = []\n",
    "for i in range(400 - 10):\n",
    "    X.append(f[i:i+10])\n",
    "    y.append(f[i+10])\n",
    "X = np.array(X)\n",
    "y = np.array(y).reshape((-1, 1))"
   ]
  },
  {
   "cell_type": "markdown",
   "id": "e6647616",
   "metadata": {},
   "source": [
    "다음 셀은 딥러닝 모델은 만들어 내는 코드입니다. 10개의 신호값을 입력 받아서 이를 32개의 신호로 변환해주고, 또 다시 32개의 신호로 변환해준 후 하나의 신호를 예측해주게 됩니다. 중간에 있는 `nn.ReLU`는 변수 사이의 더 복잡한 관계를 설명하기 위해 꼭 필요한 함수입니다. 도식화하면 다음과 같습니다.\n",
    "\n",
    "![mlp](https://raw.githubusercontent.com/postech-minds/math-academy-2th/master/mlp.png)\n",
    "\n",
    "각 선분에서는 매개변수가 더해지고, 만나는 원에서 서로 모두 더해져요. 10개의 신호가 32개의 신호로 변하고, 다시 한 번 더 32개의 신호로 변하고, 마지막으로 하나의 신호를 예측하게 되는 것이죠."
   ]
  },
  {
   "cell_type": "code",
   "execution_count": 18,
   "id": "d8e0b0e7",
   "metadata": {},
   "outputs": [],
   "source": [
    "model = nn.Sequential(\n",
    "    nn.Linear(10, 32),\n",
    "    nn.ReLU(),\n",
    "    nn.Linear(32, 32),\n",
    "    nn.ReLU(),\n",
    "    nn.Linear(32, 1)\n",
    ")"
   ]
  },
  {
   "cell_type": "markdown",
   "id": "32bd9dbd",
   "metadata": {},
   "source": [
    "`train`을 사용하며 모델을 학습시켜 봅시다."
   ]
  },
  {
   "cell_type": "code",
   "execution_count": 19,
   "id": "6015b740",
   "metadata": {},
   "outputs": [
    {
     "data": {
      "application/vnd.jupyter.widget-view+json": {
       "model_id": "2861004d9ee44d619509e26c2c794e93",
       "version_major": 2,
       "version_minor": 0
      },
      "text/plain": [
       "Log:   0%|          | 0/500 [00:00<?, ?it/s]"
      ]
     },
     "metadata": {},
     "output_type": "display_data"
    }
   ],
   "source": [
    "train(model, X, y, epochs=500, lr=0.001)"
   ]
  },
  {
   "cell_type": "markdown",
   "id": "b0aab313",
   "metadata": {},
   "source": [
    "훈련이 완료되면, 모델에 처음 10개의 신호값을 주고 다음 신호값을 예측할 수 있습니다. 예측한 신호값 포함하여 최근 10개의 신호값을 다시 모델에 입력하면 그 다음 신호값을 예측할 수 있습니다. 이 과정을 반복하면, 처음 10개의 신호값으로 더 먼 미래의 신호를 예측하여 만들어낼 수 있습니다.\n",
    "\n",
    "$$\\begin{matrix}\n",
    "g\\left(f_1, f_2, \\cdots, f_{10}\\right) & \\rightarrow & \\hat{f}_{11} \\\\\n",
    "g\\left(f_2, f_3, \\cdots, \\hat{f}_{11}\\right) & \\rightarrow & \\hat{f}_{12} \\\\\n",
    "g\\left(f_3, f_4, \\cdots, \\hat{f}_{12}\\right) & \\rightarrow & \\hat{f}_{13} \\\\\n",
    "\\vdots & & \\vdots\n",
    "\\end{matrix}$$\n",
    "\n",
    "`academy`의 `forecast`를 사용해서 처음 10개의 신호값에서 시작해서 미래 사인곡선을 예측해볼까요?"
   ]
  },
  {
   "cell_type": "code",
   "execution_count": null,
   "id": "abde6daa",
   "metadata": {},
   "outputs": [],
   "source": []
  },
  {
   "cell_type": "markdown",
   "id": "518c6bfb",
   "metadata": {},
   "source": [
    "우리가 기대했던 사인곡선이 아니군요. 아직 딥러닝 모델이 충분히 학습되지 않았기 때문입니다. `lr`을 더 줄여서 학습을 해보겠습니다."
   ]
  },
  {
   "cell_type": "code",
   "execution_count": null,
   "id": "4e1cc5f3",
   "metadata": {},
   "outputs": [],
   "source": []
  },
  {
   "cell_type": "markdown",
   "id": "f9ce7eb8",
   "metadata": {},
   "source": [
    "완벽하지는 않지만 사인곡선을 얼추 비슷하게 그려내게 되었습니다!! 딥러닝 모델은 사인함수가 어떻게 생겼는지 전혀 모릅니다. 그런데 데이터만 보고 사인함수가 어떻게 생겼을지 만들어 본 것입니다. 이처럼 딥러닝은 데이터만 주어진다면, 데이터를 만들어 낸 알 수 없는 함수를 만들어낼 수 있습니다."
   ]
  },
  {
   "cell_type": "code",
   "execution_count": null,
   "id": "974deb80",
   "metadata": {},
   "outputs": [],
   "source": []
  },
  {
   "cell_type": "markdown",
   "id": "f068ca0d",
   "metadata": {},
   "source": [
    "---"
   ]
  },
  {
   "cell_type": "markdown",
   "id": "a6d9a45d",
   "metadata": {},
   "source": [
    "# 2. 국악을 작곡하는 다양한 방법\n",
    "자, 마지막으로 국악을 작곡하는 다양한 딥러닝 기법들에 알아볼 예정이에요. 국악을 작곡하는 딥러닝은 한 가지만 있는게 아니라 여러가지 방법이 있어요. 아직은 여러분들이 딥러닝에 익숙하지 않아서 어떻게 모델링 해야 할지 잘 감이 안 오겠지만, 여러분들이 나중에 스스로 작곡하는 인공지능을 직접 만들 수도 있답니다."
   ]
  },
  {
   "cell_type": "code",
   "execution_count": null,
   "id": "7199b462",
   "metadata": {},
   "outputs": [],
   "source": [
    "import pylab\n",
    "import numpy as np\n",
    "\n",
    "import torch\n",
    "import torch.nn as nn\n",
    "\n",
    "from academy import train, forecast, Music"
   ]
  },
  {
   "cell_type": "markdown",
   "id": "38d7d64d",
   "metadata": {},
   "source": [
    "## 2.1 국악 데이터를 쉽게 다룰 수 있게 만들어주는 `Music` 클래스\n",
    "정간보를 이용해서 국악을 작곡하기 위해서 우리는 먼저 정간보를 데이터로 변환해주었습니다. 정간보를 데이터로 바꿀 수 있는 당연한 방법이 있겠지만, 우리는 특정 율명이 얼마나 오래 연주되었는가를 나타내었습니다. 특히, `율명의진동수.율명의길이`로 나타내주었습니다. 우리는 이제 정간보 악보 사진 대신 숫자들을 나열해서 정간보를 나타낼 수 있게 되었습니다. 정간보 데이터를 잘 다루기 위하여 `academy` 라이브러리에 있는 `Music`을 불러와서 사용하도록 하겠습니다."
   ]
  },
  {
   "cell_type": "code",
   "execution_count": null,
   "id": "40609c1e",
   "metadata": {},
   "outputs": [],
   "source": [
    "music = Music()\n",
    "music.load_music('sooyeonjang_gayageum_allnode.txt')\n",
    "music.load_nodelist('sooyeonjang_gayageum_nodelist.txt')"
   ]
  },
  {
   "cell_type": "code",
   "execution_count": null,
   "id": "2d7c807d",
   "metadata": {
    "scrolled": true
   },
   "outputs": [],
   "source": [
    "print(music)\n",
    "print(\"Print the music: \", music.music)\n",
    "print(\"==============\")\n",
    "print(\"Print the list of nodes\", music.nodelist)\n",
    "print(\"Print the index flow\", music.indexed_music)"
   ]
  },
  {
   "cell_type": "markdown",
   "id": "377c9b8f",
   "metadata": {},
   "source": [
    "## 2.2 소리의 진동수와 길이를 바로 예측하는 모델\n",
    "우리가 데이터화한 정간보는 마치 사인 데이터처럼 숫자들을 쭉 나열할 것입니다. 사인 곡선 만들기 예시처럼 과거 10개의 값으로 다음 신호를 예측하는 모델을 만들 수 있겠죠? 모델은 일단 훈련시키면, 처음 노트 10개만 모델에 넣으면 `forecast` 함수를 사용해서 노래를 만들어 낼 수 있을 것입니다. 먼저, 노래를 시각화해볼까요?"
   ]
  },
  {
   "cell_type": "code",
   "execution_count": null,
   "id": "2d07216a",
   "metadata": {},
   "outputs": [],
   "source": [
    "pylab.plot(music.music)"
   ]
  },
  {
   "cell_type": "code",
   "execution_count": null,
   "id": "b78f3476",
   "metadata": {},
   "outputs": [],
   "source": [
    "music.music.max()"
   ]
  },
  {
   "cell_type": "markdown",
   "id": "68b48a01",
   "metadata": {},
   "source": [
    "사인 곡선 예시 때처럼 데이터를 $k$씩 떼어내서 `X` 변수에 넣고, 다음 데이터를 떼어내서 `y` 변수에 넣을게요. 그리고 우리 데이터가 가지는 값의 범위가 78.06부터 415.1 값을 가집니다. 하지만 딥러닝 모델을 학습시킬 땐, 데이터를 0과 1사이면 좋기 때문에 데이터의 최소값과 최대값을 이용해서 0과 1사이로 변환해주겠습니다."
   ]
  },
  {
   "cell_type": "markdown",
   "id": "c431fbd3",
   "metadata": {},
   "source": [
    "### 데이터 만들기"
   ]
  },
  {
   "cell_type": "code",
   "execution_count": null,
   "id": "68ed93ca",
   "metadata": {},
   "outputs": [],
   "source": [
    "k = 10\n",
    "\n",
    "X = []\n",
    "y = []\n",
    "for i in range(music.length - k):\n",
    "    X.append(\n",
    "        (music.music[i:i+k] - min(music.music)) / (max(music.music) - min(music.music))\n",
    "    )\n",
    "    y.append(\n",
    "        (music.music[i+k] - min(music.music)) / (max(music.music) - min(music.music))\n",
    "    )\n",
    "X = np.array(X)\n",
    "y = np.array(y).reshape((-1, 1))"
   ]
  },
  {
   "cell_type": "markdown",
   "id": "a24a32d3",
   "metadata": {},
   "source": [
    "### 모델 만들기"
   ]
  },
  {
   "cell_type": "code",
   "execution_count": null,
   "id": "300ec34f",
   "metadata": {},
   "outputs": [],
   "source": [
    "hidden = 64\n",
    "model = nn.Sequential(\n",
    "    nn.Linear(k, hidden),\n",
    "    nn.ReLU(),\n",
    "    nn.Linear(hidden, hidden),\n",
    "    nn.ReLU(),\n",
    "    nn.Linear(hidden, 1)\n",
    ")"
   ]
  },
  {
   "cell_type": "markdown",
   "id": "6a89a360",
   "metadata": {},
   "source": [
    "### 훈련 시키기"
   ]
  },
  {
   "cell_type": "code",
   "execution_count": null,
   "id": "d51c8529",
   "metadata": {},
   "outputs": [],
   "source": [
    "train(model, X, y, epochs=500, lr=0.001)"
   ]
  },
  {
   "cell_type": "markdown",
   "id": "9db75a40",
   "metadata": {},
   "source": [
    "### 결과 확인"
   ]
  },
  {
   "cell_type": "code",
   "execution_count": null,
   "id": "5aa646aa",
   "metadata": {},
   "outputs": [],
   "source": [
    "x = torch.from_numpy(X[0]).float()\n",
    "new = forecast(model, x, music.length)\n",
    "new = (max(music.music) - min(music.music)) * new + min(music.music)\n",
    "pylab.plot(new)"
   ]
  },
  {
   "cell_type": "markdown",
   "id": "2d42997c",
   "metadata": {},
   "source": [
    "### 훈련 시키기"
   ]
  },
  {
   "cell_type": "code",
   "execution_count": null,
   "id": "2a3017ce",
   "metadata": {
    "scrolled": true
   },
   "outputs": [],
   "source": [
    "train(model, X, y, epochs=500, lr=0.001)"
   ]
  },
  {
   "cell_type": "markdown",
   "id": "a1b2160c",
   "metadata": {},
   "source": [
    "### 결과 확인"
   ]
  },
  {
   "cell_type": "code",
   "execution_count": null,
   "id": "3a97f922",
   "metadata": {},
   "outputs": [],
   "source": [
    "x = torch.from_numpy(X[0]).float()\n",
    "new = forecast(model, x, music.length)\n",
    "new = (max(music.music) - min(music.music)) * new + min(music.music)\n",
    "pylab.plot(new)"
   ]
  },
  {
   "cell_type": "code",
   "execution_count": null,
   "id": "fbda906e",
   "metadata": {},
   "outputs": [],
   "source": [
    "train(model, X, y, epochs=500, lr=0.001)"
   ]
  },
  {
   "cell_type": "code",
   "execution_count": null,
   "id": "8e4de846",
   "metadata": {},
   "outputs": [],
   "source": [
    "x = torch.from_numpy(X[0]).float()\n",
    "new = forecast(model, x, music.length)\n",
    "new = (max(music.music) - min(music.music)) * new + min(music.music)\n",
    "pylab.plot(new)"
   ]
  },
  {
   "cell_type": "markdown",
   "id": "a4b32fa2",
   "metadata": {},
   "source": [
    "## 2. RNN을 이용한 음악 작곡"
   ]
  },
  {
   "cell_type": "markdown",
   "id": "02a30b88",
   "metadata": {},
   "source": [
    "### 모델 만들기"
   ]
  },
  {
   "cell_type": "code",
   "execution_count": null,
   "id": "a337bc23",
   "metadata": {},
   "outputs": [],
   "source": [
    "from academy import LSTM\n",
    "\n",
    "model = LSTM(\n",
    "    input_size=1,\n",
    "    hidden_size=32,\n",
    "    output_size=1,\n",
    "    num_layers=1,\n",
    ")"
   ]
  },
  {
   "cell_type": "markdown",
   "id": "4df26b02",
   "metadata": {},
   "source": [
    "### 데이터 만들기"
   ]
  },
  {
   "cell_type": "code",
   "execution_count": null,
   "id": "7416d5fc",
   "metadata": {},
   "outputs": [],
   "source": [
    "X = music.music[:-1].reshape((music.length - 1, 1, 1))\n",
    "X = (X-X.min()) / (X.max() - X.min())\n",
    "X = torch.from_numpy(X).float()\n",
    "\n",
    "y = torch.from_numpy(music.music[1:]).float()\n",
    "y = (y - y.min()) / (y.max() - y.min())"
   ]
  },
  {
   "cell_type": "markdown",
   "id": "07f45fe5",
   "metadata": {},
   "source": [
    "### 훈련 시키기"
   ]
  },
  {
   "cell_type": "code",
   "execution_count": null,
   "id": "b30f9829",
   "metadata": {},
   "outputs": [],
   "source": [
    "train(model, X, y, epochs=500)"
   ]
  },
  {
   "cell_type": "markdown",
   "id": "d629595e",
   "metadata": {},
   "source": [
    "### 결과 확인"
   ]
  },
  {
   "cell_type": "code",
   "execution_count": null,
   "id": "7f091599",
   "metadata": {},
   "outputs": [],
   "source": [
    "new = forecast(model, X[0].item(), music.length, recurrent=True)\n",
    "new = (music.music.max() - music.music.min()) * new + music.music.min()\n",
    "pylab.plot(new)"
   ]
  },
  {
   "cell_type": "markdown",
   "id": "c63ee058",
   "metadata": {},
   "source": [
    "### 훈련 시키기"
   ]
  },
  {
   "cell_type": "code",
   "execution_count": null,
   "id": "702998ec",
   "metadata": {},
   "outputs": [],
   "source": [
    "train(model, X, y, epochs=500)"
   ]
  },
  {
   "cell_type": "markdown",
   "id": "4165ff63",
   "metadata": {},
   "source": [
    "### 결과 확인"
   ]
  },
  {
   "cell_type": "code",
   "execution_count": null,
   "id": "b7a501a1",
   "metadata": {},
   "outputs": [],
   "source": [
    "new = forecast(model, X[0].item(), music.length, recurrent=True)\n",
    "new = (music.music.max() - music.music.min()) * new + music.music.min()\n",
    "pylab.plot(new)"
   ]
  },
  {
   "cell_type": "markdown",
   "id": "211d260b",
   "metadata": {},
   "source": [
    "### 훈련 시키기"
   ]
  },
  {
   "cell_type": "code",
   "execution_count": null,
   "id": "5d251581",
   "metadata": {},
   "outputs": [],
   "source": [
    "train(model, X, y, epochs=500)"
   ]
  },
  {
   "cell_type": "markdown",
   "id": "ee475241",
   "metadata": {},
   "source": [
    "### 결과 확인"
   ]
  },
  {
   "cell_type": "code",
   "execution_count": null,
   "id": "b93d0b87",
   "metadata": {},
   "outputs": [],
   "source": [
    "new = forecast(model, X[0].item(), music.length, recurrent=True)\n",
    "new = (music.music.max() - music.music.min()) * new + music.music.min()\n",
    "pylab.plot(new)"
   ]
  },
  {
   "cell_type": "markdown",
   "id": "cb47178c",
   "metadata": {},
   "source": [
    "## 3. 중첩행렬을 이용한 작곡"
   ]
  },
  {
   "cell_type": "code",
   "execution_count": null,
   "id": "f779470c",
   "metadata": {},
   "outputs": [],
   "source": [
    "from academy import OverlapMatrixModel\n",
    "from sklearn.model_selection import train_test_split"
   ]
  },
  {
   "cell_type": "code",
   "execution_count": null,
   "id": "233840e2",
   "metadata": {},
   "outputs": [],
   "source": [
    "cycle_nodes = [\n",
    "    [2, 4, 5, 6],\n",
    "    [31, 32, 33, 34],\n",
    "    [2, 3, 14, 15],\n",
    "    [0, 20, 21, 32, 42],\n",
    "    [2, 3, 10, 11, 12],\n",
    "    [31, 34, 36, 39],\n",
    "    [0, 2, 3, 19, 20, 26, 27, 28, 29, 30],\n",
    "    [31, 36, 37, 38],\n",
    "    [0, 2, 3, 19, 31, 32, 33, 43, 44],\n",
    "    [0, 16, 25, 26],\n",
    "    [31, 36, 37, 40, 41]\n",
    "]\n",
    "\n",
    "music = Music(cycles=cycle_nodes)\n",
    "music.load_music('sooyeonjang_gayageum_allnode.txt')\n",
    "music.load_nodelist('sooyeonjang_gayageum_nodelist.txt')"
   ]
  },
  {
   "cell_type": "code",
   "execution_count": null,
   "id": "3989772a",
   "metadata": {
    "scrolled": true
   },
   "outputs": [],
   "source": [
    "import matplotlib.pyplot as plt\n",
    "import seaborn as sns\n",
    "\n",
    "overlap_matrix = music.overlap_matrix\n",
    "\n",
    "fig, ax = plt.subplots(1, 1, figsize=(8, 5))\n",
    "ax = sns.heatmap(np.transpose(overlap_matrix), cbar=False)\n",
    "plt.show()"
   ]
  },
  {
   "cell_type": "markdown",
   "id": "38016e06",
   "metadata": {},
   "source": [
    "### 데이터 만들기"
   ]
  },
  {
   "cell_type": "code",
   "execution_count": null,
   "id": "374bc5cb",
   "metadata": {},
   "outputs": [],
   "source": [
    "length = music.length\n",
    "n_nodes = music.num_nodes\n",
    "\n",
    "matrix_used = music.overlap_matrix\n",
    "overlap_matrix_duplicated = np.concatenate((matrix_used, matrix_used), axis=0)\n",
    "\n",
    "\n",
    "L_encoded = music.indexed_music\n",
    "L_onehot = np.zeros((length, n_nodes), dtype=np.bool)\n",
    "for i, idx in enumerate(L_encoded):\n",
    "    L_onehot[i, idx] = 1\n",
    "L_onehot_duplicated = np.concatenate((L_onehot, L_onehot))\n",
    "L_encoded_duplicated = np.concatenate((L_encoded, L_encoded))\n",
    "\n",
    "print(\"The shape of overlap_matrix_duplicated : \", overlap_matrix_duplicated.shape)\n",
    "print(\"The shape of L_onehot_duplicated : \", L_onehot_duplicated. shape)\n",
    "print(\"The shape of L_encoded_duplicated : \", L_encoded_duplicated. shape)\n",
    "\n",
    "# Dongjin's implementation April 26\n",
    "start_indices = music.beat_start_indices()\n",
    "X = np.stack([overlap_matrix_duplicated[i:i + length].flatten() for i in start_indices])\n",
    "y = np.stack([L_onehot_duplicated[i:i + length].flatten() for i in start_indices])\n",
    "y = np.stack([L_encoded_duplicated[i:i + length].flatten() for i in start_indices])\n",
    "\n",
    "print(\"The shape of X: \", X.shape)\n",
    "print(\"The shape of y: \", y.shape)\n",
    "\n",
    "X = X.astype(np.float32)\n",
    "y = y.astype(np.int64)\n",
    "X_train, X_valid, y_train, y_valid = train_test_split(X, y, test_size=0.3, random_state=1)\n",
    "\n",
    "dim_input = X.shape[1]\n",
    "dim_output = y.shape[1] * n_nodes\n",
    "dim_hidden = length"
   ]
  },
  {
   "cell_type": "markdown",
   "id": "37755bf5",
   "metadata": {},
   "source": [
    "### 모델 만들기"
   ]
  },
  {
   "cell_type": "code",
   "execution_count": null,
   "id": "d512ffa9",
   "metadata": {},
   "outputs": [],
   "source": [
    "model = OverlapMatrixModel(dim_input, dim_hidden, dim_output, music.num_nodes)"
   ]
  },
  {
   "cell_type": "markdown",
   "id": "404e6d73",
   "metadata": {},
   "source": [
    "### 훈련 시키기"
   ]
  },
  {
   "cell_type": "code",
   "execution_count": null,
   "id": "6595d72e",
   "metadata": {},
   "outputs": [],
   "source": [
    "train(model, X_train, torch.from_numpy(y_train.flatten()), task='classification')"
   ]
  },
  {
   "cell_type": "markdown",
   "id": "e05cfc10",
   "metadata": {},
   "source": [
    "### 결과 확인"
   ]
  },
  {
   "cell_type": "code",
   "execution_count": null,
   "id": "1ea96dd6",
   "metadata": {},
   "outputs": [],
   "source": [
    "overlap_matrix = music.overlap_matrix\n",
    "X = np.transpose(overlap_matrix)\n",
    "Generated_Music = np.argmax(model(torch.tensor(X.flatten(), dtype=torch.float32)).detach().numpy(), axis=1)\n",
    "print(Generated_Music)"
   ]
  },
  {
   "cell_type": "code",
   "execution_count": null,
   "id": "a4ce3409",
   "metadata": {},
   "outputs": [],
   "source": [
    "####### Cycle node numbers ###################\n",
    "cycle1_number = [20, 27, 18, 22]\n",
    "cycle2_number = [6, 12, 3, 18]\n",
    "cycle3_number = [20, 26, 23, 16, 22]\n",
    "cycle4_number = [6, 11, 2, 7, 0, 6]\n",
    "cycle5_number = [6, 18, 21, 16, 6, 18]\n",
    "cycle6_number = [18, 6, 1, 24, 21]\n",
    "cycle7_number = [18, 6, 22, 27, 30, 25]\n",
    "cycle8_number = [27, 22, 29, 30]\n",
    "\n",
    "pitch = ['D#2', 'F2', 'G#2', 'A#2', 'C3', 'D#3', 'F3', 'G#3', 'A#3', 'C4', 'D#4', 'F4', 'G#4'] #--> node list from lower to higher\n",
    "midi_number = [39, 41, 44, 46, 48, 51, 53, 56, 58, 60, 63, 65, 68]\n",
    "#freq_number = [78, 87, 104, 117, 131, 156, 175, 208, 233, 262, 311, 349, 415]\n",
    "\n",
    "repeat = [1, 2, 4, 4, 1, 5, 4, 6, 6, 4, 4, 5, 2] # ---> the sum is 48 (total # of nodes)\n",
    "n_repeat = len(repeat)\n",
    "syj_pitch = []\n",
    "syj_midi = []\n",
    "for i in range(n_repeat):\n",
    "    j = repeat[i]\n",
    "    for k in range(j):\n",
    "        syj_pitch.append(pitch[i])\n",
    "        syj_midi.append(midi_number[i])\n",
    "p = syj_pitch\n",
    "m = syj_midi\n",
    "\n",
    "######## LENGTH ################\n",
    "syj_tempo = [1.0, 0.33, 1.0, 0.67,\n",
    "             1.0, 1.67, 2.0, 0.33,\n",
    "             0.67, 1.0, 2.0, 1.0,\n",
    "             0.17, 0.33, 1.0, 1.67,\n",
    "             2.0, 0.17, 0.33, 1.0,\n",
    "             1.67, 0.33, 0.67, 0.83,\n",
    "             1.0, 1.67, 2.0, 0.17, 0.33,\n",
    "             0.67, 0.83, 1.0, 2.0, 0.33,\n",
    "             0.67, 1.0, 1.67, 0.17, 0.33,\n",
    "             1.0, 1.67, 0.33, 0.67, 0.83,\n",
    "             1.0, 2.0, 1.0, 1.67]\n",
    "n = len(syj_tempo)\n",
    "t = []\n",
    "for i in range(n):\n",
    "    tmp = int(2*syj_tempo[i]/0.33)\n",
    "    t.append(tmp)\n",
    "    \n",
    "####### Cycle pitch + tempo function ##################\n",
    "def cycle_generate(cycle_number, m, t):\n",
    "    cycle = []\n",
    "    n = len(cycle_number)\n",
    "    for i in range(n):\n",
    "        c = cycle_number[i]\n",
    "        midi = m[c]\n",
    "        tempo = t[c]\n",
    "        cycle.append([midi, tempo])\n",
    "    return cycle\n",
    "\n",
    "def choose_node(z, m, t):\n",
    "    \n",
    "    node_current = cycle_generate([z], m, t)\n",
    "    int_midi_number=int(node_current[0][0])\n",
    "    int_midi_duration=int(node_current[0][1])\n",
    "    n1 = note.Note(int_midi_number)\n",
    "    n1.duration=duration.Duration(0.5 * int_midi_duration)\n",
    "    \n",
    "    return n1"
   ]
  },
  {
   "cell_type": "code",
   "execution_count": null,
   "id": "af07ebd3",
   "metadata": {},
   "outputs": [],
   "source": [
    "###########################\n",
    "# From node to new music \n",
    "from music21 import *\n",
    "\n",
    "s1 = stream.Stream()\n",
    "s1.clear()\n",
    "s1.insert(0, meter.TimeSignature('6/4'))\n",
    "s1.keySignature= key.KeySignature(-3)\n",
    "\n",
    "#node_sequence = loadtxt('Generated_Music_allnode_8.txt')\n",
    "node_sequence = Generated_Music\n",
    "\n",
    "N = len(node_sequence)\n",
    "\n",
    "for i in range(N):\n",
    "    z = int(node_sequence[i])\n",
    "    n1 = choose_node(z, m, t)\n",
    "    s1.append(n1)\n",
    "\n",
    "s1.show()\n",
    "\n",
    "NewComposition=stream.Stream()\n",
    "NewComposition.clear()\n",
    "NewComposition.insert(0, meter.TimeSignature('12/8'))\n",
    "NewComposition.keySignature= key.KeySignature(-3)\n",
    "NewComposition.append(s1)\n",
    "NewComposition.show('midi')\n",
    "NewComposition.write(\"midi\", \"NewComposition.mid\")"
   ]
  },
  {
   "cell_type": "code",
   "execution_count": null,
   "id": "d406634e",
   "metadata": {},
   "outputs": [],
   "source": []
  }
 ],
 "metadata": {
  "kernelspec": {
   "display_name": "Python 3.8.12 ('torch')",
   "language": "python",
   "name": "python3"
  },
  "language_info": {
   "codemirror_mode": {
    "name": "ipython",
    "version": 3
   },
   "file_extension": ".py",
   "mimetype": "text/x-python",
   "name": "python",
   "nbconvert_exporter": "python",
   "pygments_lexer": "ipython3",
   "version": "3.8.12"
  },
  "vscode": {
   "interpreter": {
    "hash": "e1315e6714f2518a6216a6eec3b047587d10875bf19b853b35d3e5c84c569e2a"
   }
  }
 },
 "nbformat": 4,
 "nbformat_minor": 5
}

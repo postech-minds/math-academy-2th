{
 "cells": [
  {
   "cell_type": "markdown",
   "id": "2acf99bc",
   "metadata": {},
   "source": [
    "# 인공지능 실습\n",
    "- 07월 20일 수요일에는 파이썬과 주피터 노트북 사용법을 익히고, 머신러닝이 무엇인지 알아볼 것이에요.\n",
    "- 07월 21일 목요일에는 작곡을 하는 인공지능을 만들어 볼 것이에요."
   ]
  },
  {
   "cell_type": "markdown",
   "id": "488dfd8d",
   "metadata": {},
   "source": [
    "## 1. 주피터와 친해지기\n",
    "주피터 노트북은 성능 좋은 계산기라고 생각하면 됩니다 . 이 계산기에서는 파이썬 프로그래밍 언어라는 문법을 사용해서 계산기에 명령을 내립니다. 파이썬 언어만 익숙해지면 이 계산기를 사용하여 여러분이 원하는 모든 것을 계산하고 만들 수 있습니다. 간단한 사칙연산부터 시작해볼까요?"
   ]
  },
  {
   "cell_type": "markdown",
   "id": "7f912641",
   "metadata": {},
   "source": [
    "### 사칙연산 ➕➖✖️➗ (3min)"
   ]
  },
  {
   "cell_type": "markdown",
   "id": "51de98d0",
   "metadata": {},
   "source": [
    "❗️문제) $123+456+789$를 계산하세요."
   ]
  },
  {
   "cell_type": "code",
   "execution_count": 1,
   "id": "0239ce4d",
   "metadata": {},
   "outputs": [
    {
     "data": {
      "text/plain": [
       "1368"
      ]
     },
     "execution_count": 1,
     "metadata": {},
     "output_type": "execute_result"
    }
   ],
   "source": [
    "123 + 456 + 789"
   ]
  },
  {
   "cell_type": "markdown",
   "id": "825d288f",
   "metadata": {},
   "source": [
    "❗️문제) $123 \\times 456$를 계산하세요. 곱하기 연산은 `*`로 가능해요."
   ]
  },
  {
   "cell_type": "code",
   "execution_count": 2,
   "id": "1771fa66",
   "metadata": {},
   "outputs": [
    {
     "data": {
      "text/plain": [
       "56088"
      ]
     },
     "execution_count": 2,
     "metadata": {},
     "output_type": "execute_result"
    }
   ],
   "source": [
    "123 * 456"
   ]
  },
  {
   "cell_type": "markdown",
   "id": "8b417aca",
   "metadata": {},
   "source": [
    "❗️문제) 109 ÷ 10을 계산하세요. 나누기 연산은 `/`로 가능해요."
   ]
  },
  {
   "cell_type": "code",
   "execution_count": 3,
   "id": "e2e67c2d",
   "metadata": {},
   "outputs": [
    {
     "data": {
      "text/plain": [
       "10.9"
      ]
     },
     "execution_count": 3,
     "metadata": {},
     "output_type": "execute_result"
    }
   ],
   "source": [
    "109 / 10"
   ]
  },
  {
   "cell_type": "markdown",
   "id": "2d7b4434",
   "metadata": {},
   "source": [
    "❗️문제) 109 ÷ 10의 몫을 구하세요. 몫 연산은 `//`로 가능해요."
   ]
  },
  {
   "cell_type": "code",
   "execution_count": 4,
   "id": "1bbfb5c2",
   "metadata": {},
   "outputs": [
    {
     "data": {
      "text/plain": [
       "10"
      ]
     },
     "execution_count": 4,
     "metadata": {},
     "output_type": "execute_result"
    }
   ],
   "source": [
    "109 // 10"
   ]
  },
  {
   "cell_type": "markdown",
   "id": "f9aa98b7",
   "metadata": {},
   "source": [
    "❗️문제) 109 ÷ 10의 나머지를 구하세요. 나머지 연산은 `%`로 가능해요."
   ]
  },
  {
   "cell_type": "code",
   "execution_count": 5,
   "id": "53314520",
   "metadata": {},
   "outputs": [
    {
     "data": {
      "text/plain": [
       "9"
      ]
     },
     "execution_count": 5,
     "metadata": {},
     "output_type": "execute_result"
    }
   ],
   "source": [
    "109 % 10"
   ]
  },
  {
   "cell_type": "markdown",
   "id": "d2bf2b77",
   "metadata": {},
   "source": [
    "❗️문제) 2의 3제곱을 구하세요. 제곱 연산은 `**`로 가능해요."
   ]
  },
  {
   "cell_type": "code",
   "execution_count": 6,
   "id": "c63da1e1",
   "metadata": {},
   "outputs": [
    {
     "data": {
      "text/plain": [
       "8"
      ]
     },
     "execution_count": 6,
     "metadata": {},
     "output_type": "execute_result"
    }
   ],
   "source": [
    "2 ** 3"
   ]
  },
  {
   "cell_type": "markdown",
   "id": "4a9fb02b",
   "metadata": {},
   "source": [
    "### 변수를 사용해서 계산하기 🍌\n",
    "사칙연산은 스마트폰에 있는 계산기로도 할 수 있는데, 왜 노트북까지 열어서 해야 하는지 잘 모르시겠다고요? 이제부터 파이썬에 있는 다양한 기능들을 알아볼거예요. 그 전에 다음 문제를 풀어볼까요?"
   ]
  },
  {
   "cell_type": "markdown",
   "id": "4bebfccc",
   "metadata": {},
   "source": [
    "❗️문제) $123456 + 123456 \\times (123456 + 123456)$을 계산하세요"
   ]
  },
  {
   "cell_type": "code",
   "execution_count": 7,
   "id": "1289e651",
   "metadata": {},
   "outputs": [
    {
     "data": {
      "text/plain": [
       "30482891328"
      ]
     },
     "execution_count": 7,
     "metadata": {},
     "output_type": "execute_result"
    }
   ],
   "source": [
    "123456 + 123456 * (123456 + 123456)"
   ]
  },
  {
   "cell_type": "markdown",
   "id": "adf1bb2a",
   "metadata": {},
   "source": [
    "파이썬에서는 변수라는 것에 원하는 숫자를 넣어서, 그 숫자 대신 사용할 수 있어요. 변수 안에 숫자를 넣는 방법은 굉장히 쉽답니다. `x`라는 변수 안에 123456이라는 숫자를 넣어볼게요. 이때, 변수 이름은 `x` 뿐만 아니라 여러분이 원하시는대로 만들 수 있어요."
   ]
  },
  {
   "cell_type": "code",
   "execution_count": 8,
   "id": "2ee09504",
   "metadata": {},
   "outputs": [
    {
     "name": "stdout",
     "output_type": "stream",
     "text": [
      "123456\n"
     ]
    }
   ],
   "source": [
    "x = 123456\n",
    "print(x)"
   ]
  },
  {
   "cell_type": "markdown",
   "id": "102a983a",
   "metadata": {},
   "source": [
    "그럼 위의 문제를 변수를 사용해서 다시 계산해볼까요? 123456 대신 x를 사용하면 훨씬 명령하기 쉬워지겠죠?"
   ]
  },
  {
   "cell_type": "code",
   "execution_count": 9,
   "id": "1a12a2d1",
   "metadata": {},
   "outputs": [
    {
     "data": {
      "text/plain": [
       "30482891328"
      ]
     },
     "execution_count": 9,
     "metadata": {},
     "output_type": "execute_result"
    }
   ],
   "source": [
    "x + x * (x + x)"
   ]
  },
  {
   "cell_type": "markdown",
   "id": "ee4f3b5f",
   "metadata": {},
   "source": [
    "### 나만의 함수 만들기 🍍\n",
    "❗️문제) 다음을 모두 계산하세요.\n",
    "- $123 + 123 \\times (123 + 123)$\n",
    "- $456 + 456 \\times (456 + 456)$\n",
    "- $789 + 789 \\times (789 + 789)$"
   ]
  },
  {
   "cell_type": "code",
   "execution_count": 10,
   "id": "bc41338c",
   "metadata": {},
   "outputs": [
    {
     "data": {
      "text/plain": [
       "30381"
      ]
     },
     "execution_count": 10,
     "metadata": {},
     "output_type": "execute_result"
    }
   ],
   "source": [
    "x = 123\n",
    "x + x * (x + x)"
   ]
  },
  {
   "cell_type": "code",
   "execution_count": 11,
   "id": "74139548",
   "metadata": {},
   "outputs": [
    {
     "data": {
      "text/plain": [
       "416328"
      ]
     },
     "execution_count": 11,
     "metadata": {},
     "output_type": "execute_result"
    }
   ],
   "source": [
    "x = 456\n",
    "x + x * (x + x)"
   ]
  },
  {
   "cell_type": "code",
   "execution_count": 12,
   "id": "88424061",
   "metadata": {},
   "outputs": [
    {
     "data": {
      "text/plain": [
       "1245831"
      ]
     },
     "execution_count": 12,
     "metadata": {},
     "output_type": "execute_result"
    }
   ],
   "source": [
    "x = 789\n",
    "x + x * (x + x)"
   ]
  },
  {
   "cell_type": "markdown",
   "id": "507fe608",
   "metadata": {},
   "source": [
    "파이썬에서 함수란 어떤 값을 입력 받아서 일련의 연산을 한 후 결과 값을 출력해주는 역할을 합니다. 함수는 다음과 같이 만들 수 있습니다."
   ]
  },
  {
   "cell_type": "code",
   "execution_count": 13,
   "id": "3c09ffb5",
   "metadata": {},
   "outputs": [],
   "source": [
    "def f(x):\n",
    "    y = x + x * (x + x)\n",
    "    \n",
    "    return y"
   ]
  },
  {
   "cell_type": "code",
   "execution_count": 14,
   "id": "ea572bf8",
   "metadata": {},
   "outputs": [
    {
     "data": {
      "text/plain": [
       "30381"
      ]
     },
     "execution_count": 14,
     "metadata": {},
     "output_type": "execute_result"
    }
   ],
   "source": [
    "f(123)"
   ]
  },
  {
   "cell_type": "code",
   "execution_count": 15,
   "id": "ce996ee2",
   "metadata": {},
   "outputs": [
    {
     "data": {
      "text/plain": [
       "416328"
      ]
     },
     "execution_count": 15,
     "metadata": {},
     "output_type": "execute_result"
    }
   ],
   "source": [
    "f(456)"
   ]
  },
  {
   "cell_type": "code",
   "execution_count": 16,
   "id": "b2b3f136",
   "metadata": {},
   "outputs": [
    {
     "data": {
      "text/plain": [
       "1245831"
      ]
     },
     "execution_count": 16,
     "metadata": {},
     "output_type": "execute_result"
    }
   ],
   "source": [
    "f(789)"
   ]
  },
  {
   "cell_type": "markdown",
   "id": "09367648",
   "metadata": {},
   "source": [
    "### 라이브러리 사용하기\n",
    "이제 여러분들만의 함수를 만들 수 있어요!! 문제집에 나오는 다양한 유형을 함수로 만들고, 값만 다르게 넣으면 여러 번 적어줄 필요 없이 답이 빠르게 나오겠죠? 그럼, 우리 아주 간단한 함수를 만들어보아요. 실제 정답에 가까울수록 칭찬해드리겠습니다.\n",
    "\n",
    "❗️문제) 반지름이 $r$인 원의 넓이를 구하는 함수를 만들어주세요. 함수 이름은 `area`로 만들어주세요. 반지름이 $r$인 원의 넓이는 $\\pi r^2$입니다. 만든 함수를 사용해서 반지름이 1인 원의 넓이를 계산해주세요."
   ]
  },
  {
   "cell_type": "code",
   "execution_count": 17,
   "id": "ddca4510",
   "metadata": {},
   "outputs": [],
   "source": [
    "def area(r):\n",
    "    y = 3.14 * r * r\n",
    "    \n",
    "    return y"
   ]
  },
  {
   "cell_type": "code",
   "execution_count": 18,
   "id": "fb0273a5",
   "metadata": {},
   "outputs": [
    {
     "data": {
      "text/plain": [
       "3.14"
      ]
     },
     "execution_count": 18,
     "metadata": {},
     "output_type": "execute_result"
    }
   ],
   "source": [
    "area(1)"
   ]
  },
  {
   "cell_type": "markdown",
   "id": "c7f8792e",
   "metadata": {},
   "source": [
    "우리가 학교에서 $\\pi$를 무한소수라고 배웠죠? $3.141592...$를 다 적어줄 수 없으니깐 $3.14$만 사용해서 계산을 했습니다. 하지만 진짜 $\\pi$ 대신 $3.14$를 사용하면 그만큼 값이 다르게 나오겠죠? 우리는 보통 $\\pi$를 외우고 다니지 않습니다. 하지만 파이썬에는 누가 $\\pi$를 외워서 저장을 해놓았어요. `numpy`라는 라이브러리를 불러와서 그 안에 있는 `pi` 변수를 사용할 것이에요. 이를 위해서 먼저 `import numpy`로 라이브러리를 불러오고, `numpy`에 있는 `pi`를 사용하기 위해 `numpy.pi`를 입력해줄거예요.\n",
    "\n",
    "라이브러리는 엄청 똑똑한 사람들이 미리 만들어 놓은 변수, 함수 등등을 저장해놓은 도서관 같은 곳이에요. 우리는 다양한 기능을 직접 만드는 대신 라이브러리에서 기능을 불러와서 사용할 것이에요."
   ]
  },
  {
   "cell_type": "code",
   "execution_count": 19,
   "id": "cb476866",
   "metadata": {},
   "outputs": [
    {
     "data": {
      "text/plain": [
       "3.141592653589793"
      ]
     },
     "execution_count": 19,
     "metadata": {},
     "output_type": "execute_result"
    }
   ],
   "source": [
    "import numpy\n",
    "\n",
    "numpy.pi"
   ]
  },
  {
   "cell_type": "markdown",
   "id": "e4d53551",
   "metadata": {},
   "source": [
    "기능을 사용할 때마다 매번 앞에 `numpy`를 붙여주면 너무 길죠? 라이브러리에 다음과 같이 별명을 지어줄 수 있어요. "
   ]
  },
  {
   "cell_type": "code",
   "execution_count": 20,
   "id": "5205192b",
   "metadata": {},
   "outputs": [
    {
     "data": {
      "text/plain": [
       "3.141592653589793"
      ]
     },
     "execution_count": 20,
     "metadata": {},
     "output_type": "execute_result"
    }
   ],
   "source": [
    "import numpy as np\n",
    "\n",
    "np.pi"
   ]
  },
  {
   "cell_type": "markdown",
   "id": "271289cd",
   "metadata": {},
   "source": [
    "`numpy`의 `pi` 변수를 사용해서 원의 넓이를 구하는 함수를 다시 만들어볼까요?"
   ]
  },
  {
   "cell_type": "code",
   "execution_count": 21,
   "id": "38196910",
   "metadata": {},
   "outputs": [],
   "source": [
    "def area(r):\n",
    "    y = np.pi * r * r\n",
    "    \n",
    "    return y"
   ]
  },
  {
   "cell_type": "code",
   "execution_count": 22,
   "id": "93536e66",
   "metadata": {},
   "outputs": [
    {
     "data": {
      "text/plain": [
       "3.141592653589793"
      ]
     },
     "execution_count": 22,
     "metadata": {},
     "output_type": "execute_result"
    }
   ],
   "source": [
    "area(1)"
   ]
  },
  {
   "cell_type": "markdown",
   "id": "89e5124d",
   "metadata": {},
   "source": [
    "### 하나의 변수에 여러 정보 넣기 🍏\n",
    "하나의 변수에 두 개 이상의 숫자를 넣고 싶을 때는 어떻게 할까요? 파이썬의 리스트를 사용하면 변수 하나에 여러 정보를 넣을 수 있습니다. `나`라는 변수에 자신의 키와 몸무게를 넣어볼까요?"
   ]
  },
  {
   "cell_type": "code",
   "execution_count": 23,
   "id": "7fac9dd4",
   "metadata": {},
   "outputs": [
    {
     "name": "stdout",
     "output_type": "stream",
     "text": [
      "나의 키:  179\n",
      "나의 몸무게:  70\n"
     ]
    },
    {
     "data": {
      "text/plain": [
       "[179, 70]"
      ]
     },
     "execution_count": 23,
     "metadata": {},
     "output_type": "execute_result"
    }
   ],
   "source": [
    "나 = [179, 70]\n",
    "\n",
    "print(\"나의 키: \", 나[0])\n",
    "print(\"나의 몸무게: \", 나[1])\n",
    "나"
   ]
  },
  {
   "cell_type": "markdown",
   "id": "f789f983",
   "metadata": {},
   "source": [
    "이번에는 `선생님`이라는 변수를 만들어서 선생님의 키 179cm와 몸무게 70kg을 넣어주세요."
   ]
  },
  {
   "cell_type": "code",
   "execution_count": 24,
   "id": "2ab6e42f",
   "metadata": {},
   "outputs": [
    {
     "name": "stdout",
     "output_type": "stream",
     "text": [
      "선생님의 키:  179\n",
      "선생님의 몸무게:  70\n"
     ]
    }
   ],
   "source": [
    "선생님 = [179, 70]\n",
    "\n",
    "print(\"선생님의 키: \", 선생님[0])\n",
    "print(\"선생님의 몸무게: \", 선생님[1])"
   ]
  },
  {
   "cell_type": "markdown",
   "id": "8d87df21",
   "metadata": {},
   "source": [
    "그럼, 이제 파이썬 연산을 사용해서 나와 선생님의 평균 키와 몸무게를 구해볼까요? `나` 변수와 `선생님` 변수를 더한 다음 2로 나눠주면 되겠죠?"
   ]
  },
  {
   "cell_type": "code",
   "execution_count": 25,
   "id": "641ac8bb",
   "metadata": {},
   "outputs": [
    {
     "data": {
      "text/plain": [
       "[179, 70, 179, 70]"
      ]
     },
     "execution_count": 25,
     "metadata": {},
     "output_type": "execute_result"
    }
   ],
   "source": [
    "나 + 선생님"
   ]
  },
  {
   "cell_type": "markdown",
   "id": "b42f3a53",
   "metadata": {},
   "source": [
    "키와 몸무게가 서로 더해지는 것이 아니라 두 개의 리스트가 연결되어 버렸습니다 😅. 우리가 원하는 것은 키는 키끼리, 몸무게는 몸무게끼리 더해지는 것이죠? 아쉽게도 파이썬 리스트는 그런 기능이 제공되지 않습니다 😢. 대신, 파이썬 리스트를 연산이 가능한 데이터로 바꿔주는 기능을 가져와서 사용하면 됩니다. 데이터를 다루는데 필요한 다양한 기능들을 모아놓은 `numpy`에서 `array`라는 함수를 사용해볼게요."
   ]
  },
  {
   "cell_type": "code",
   "execution_count": 26,
   "id": "ab635069",
   "metadata": {},
   "outputs": [
    {
     "data": {
      "text/plain": [
       "array([179,  70])"
      ]
     },
     "execution_count": 26,
     "metadata": {},
     "output_type": "execute_result"
    }
   ],
   "source": [
    "나 = np.array(나)\n",
    "선생님 = np.array(선생님)\n",
    "\n",
    "나"
   ]
  },
  {
   "cell_type": "markdown",
   "id": "478dad04",
   "metadata": {},
   "source": [
    "자 그럼 나와 선생님의 평균 키와 몸무게를 계산해볼까요?"
   ]
  },
  {
   "cell_type": "code",
   "execution_count": 27,
   "id": "dc386145",
   "metadata": {},
   "outputs": [
    {
     "data": {
      "text/plain": [
       "array([179.,  70.])"
      ]
     },
     "execution_count": 27,
     "metadata": {},
     "output_type": "execute_result"
    }
   ],
   "source": [
    "(나 + 선생님) / 2"
   ]
  },
  {
   "cell_type": "markdown",
   "id": "667c9970",
   "metadata": {},
   "source": [
    "이제 우리는 여러 개의 정보를 하나의 변수 안에 넣고, 정보들끼리 연산을 하는 방법을 알게 되었어요."
   ]
  },
  {
   "cell_type": "markdown",
   "id": "dd2d8251",
   "metadata": {},
   "source": [
    "## 2. 데이터 시각화하기\n",
    "지금까지 파이썬의 다양한 기초 문법들을 배워보았어요. 배운 기초 문법들만 잘 사용한다면 여러분들이 상상하는 모든 것을 계산하고 만들어낼 수 있어요. 지금부터는 본격적으로 데이터 분석을 해보고, 데이터로 데이터를 예측하는 모델을 만들어 보겠습니다. 아래의 `수학`과 `과학` 변수에 각각 학생 9명의 수학 성적과 과학 성적이 담겨져 있습니다. 이때, 한 학생의 성적은 두 변수 안에서 같은 위치에 적혀져 있어야 합니다. 예를 들어, 첫 번째 학생은 수학과 과학을 각각 32점, 40점을 맞았고, 두 번째 학생은 43점과 59점을 받았어요. "
   ]
  },
  {
   "cell_type": "code",
   "execution_count": 28,
   "id": "b6274c41",
   "metadata": {},
   "outputs": [],
   "source": [
    "수학 = np.array([32, 43, 65, 76, 60, 89, 98, 58, 73])\n",
    "과학 = np.array([40, 59, 70, 80, 58, 95, 98, 65, 68])"
   ]
  },
  {
   "cell_type": "markdown",
   "id": "1c768b1f",
   "metadata": {},
   "source": [
    "파이썬의 기본 기능에는 시각화해주는 기능이 없어서 `pylab`이라는 패키지를 불러와서 기능을 사용해야 합니다. 수학 성적에 대한 과학 성적이 어떤지 보기 위해서는 `pylab.plot`의 첫 번째 인자에 `수학`을, 두 번째 인자에는 `과학`을 적어주면 됩니다. `'o'`는 각 학생의 성적을 점으로 표현하겠다는 의미입니다. 이와 같은 그래프를 산점도라고 부릅니다."
   ]
  },
  {
   "cell_type": "code",
   "execution_count": 29,
   "id": "e7fdf562",
   "metadata": {
    "scrolled": true
   },
   "outputs": [
    {
     "data": {
      "text/plain": [
       "[<matplotlib.lines.Line2D at 0x10acdc310>]"
      ]
     },
     "execution_count": 29,
     "metadata": {},
     "output_type": "execute_result"
    },
    {
     "data": {
      "image/png": "[encoded data removed]",
      "text/plain": [
       "<Figure size 432x288 with 1 Axes>"
      ]
     },
     "metadata": {
      "needs_background": "light"
     },
     "output_type": "display_data"
    }
   ],
   "source": [
    "import pylab\n",
    "\n",
    "pylab.plot(수학, 과학, 'o')"
   ]
  },
  {
   "cell_type": "markdown",
   "id": "7a9d6e3c",
   "metadata": {},
   "source": [
    "위 그래프를 통해 수학 성적이 높을 수록 과학 성적도 높은 것을 알 수 있어요."
   ]
  },
  {
   "cell_type": "markdown",
   "id": "01f0f09b",
   "metadata": {},
   "source": [
    "## 3. 수학 점수로 과학 점수를 예측하는 모델 만들기\n",
    "위에서 9명의 학생들의 성적 추이를 보았을 때, 수학 점수가 85점인 열 번째 학생의 과학 성적은 몇 점일까요? 산점도에 따르면 75점과 85점 사이일 것이라고 예상되죠? 만약 100명이 넘는 학생의 과학 점수를 예상해야 한다고 하면 이렇게 눈으로 어림 잡아서 말하기가 굉장히 힘들 것이에요. 우리는 \"수학 점수가 $x$점이면 과학 점수는 $y$점이다\"라고 딱 말해줄 수 있는 모델이 필요합니다. 그래서 우리는 수학 점수로 과학 점수를 예측하는 모델을 만들어 볼 것입니다.\n",
    "\n",
    "<br>\n",
    "\n",
    "위의 그래프로 봤을 때, 수학 점수와 과학 점수의 산점도가 마치 직선처럼 생겼죠? 우리는 `수학`과 `과학` 변수 사이에는 **선형 관계**가 있다고 말합니다. 이와 같은 두 변수 사이의 선형 관계를 바탕으로 우리는 1차 함수를 사용하여 과학 점수를 예측할 것입니다. 1차 함수는 다음과 같이 적어줄 수 있습니다.\n",
    "$$f(x) = ax + b$$\n",
    "\n",
    "<br>\n",
    "\n",
    "이때, $a$는 기울기, $b$는 y절편이죠? $a$와 $b$에 어떤 값이 오느냐에 따라서 직선의 모양이 달라지게 됩니다. 그리고 $x$에 어떤 값을 넣느냐에 따라서 $f(x)$ 값이 달라집니다. 우리의 경우 $x$는 수학 성적, $f(x)$의 경우 과학 성적이라고 생각할 수 있습니다. \n",
    "\n",
    "$$\\text{과학} = a \\times \\text{수학} + b$$\n",
    "\n",
    "<br>\n",
    "\n",
    "모델이 입력 받는 변수를 **독립 변수** 그리고 모델이 예측하고자 하는 변수를 **종속 변수**라고 부릅니다. 지금은 하나의 독립 변수를 이용해서 하나의 종속 변수를 예측하는 모델을 만들고 있는 것입니다. 우리의 목표는 데이터를 가장 잘 설명할 수 있는 기울기와 y절편을 갖는 모델을 찾아내는 것입니다. $a$와 $b$와 같이 모델의 모양을 결정해주는 변수들을 **매개변수**라고 부릅니다. 이와 같이 독립 변수에 매개 변수 곱한 다음 모두 더해주는 모델을 **선형 모델**이라고 부릅니다. 아래의 셀에 기울기가 1이고 y절편이 15인 일차 함수를 그리는 코드가 있습니다. 이 일차 함수는 데이터를 잘 설명하고 있나요? 그럼, 아래의 셀에서 `a` 변수와 `b` 변수의 값을 바꿔가면서 데이터를 가장 잘 설명할 수 있는 직선을 찾아보세요."
   ]
  },
  {
   "cell_type": "code",
   "execution_count": 30,
   "id": "54f1244e",
   "metadata": {},
   "outputs": [
    {
     "data": {
      "text/plain": [
       "[<matplotlib.lines.Line2D at 0x10adcdf40>]"
      ]
     },
     "execution_count": 30,
     "metadata": {},
     "output_type": "execute_result"
    },
    {
     "data": {
      "image/png": "[encoded data removed]",
      "text/plain": [
       "<Figure size 432x288 with 1 Axes>"
      ]
     },
     "metadata": {
      "needs_background": "light"
     },
     "output_type": "display_data"
    }
   ],
   "source": [
    "x = np.array([30, 100])\n",
    "\n",
    "a = 1\n",
    "b = 15\n",
    "\n",
    "y = a * x + b\n",
    "\n",
    "pylab.plot(수학, 과학, 'o')\n",
    "pylab.plot(x, y, 'r-')"
   ]
  },
  {
   "cell_type": "markdown",
   "id": "2dc8c78e",
   "metadata": {},
   "source": [
    "여러분들은 어떤 `a`와 `b` 값을 사용하셨나요? 여러분들이 만든 모델에 따르면 수학 점수가 85점인 학생의 과학 성적은 어떻게 되나요?"
   ]
  },
  {
   "cell_type": "code",
   "execution_count": 31,
   "id": "7cbfaf27",
   "metadata": {},
   "outputs": [
    {
     "data": {
      "text/plain": [
       "100"
      ]
     },
     "execution_count": 31,
     "metadata": {},
     "output_type": "execute_result"
    }
   ],
   "source": [
    "a * 85 + b"
   ]
  },
  {
   "cell_type": "markdown",
   "id": "27e822ca",
   "metadata": {},
   "source": [
    "이제 100명의 학생의 수학 성적이 있어도 아주 손 쉽게 과학 성적을 예측할 수 있습니다.\n",
    "\n",
    "~~~python\n",
    "math = np.array([76, 32, 64, ..., 97])\n",
    "science = a * math + b\n",
    "print(science)\n",
    "~~~"
   ]
  },
  {
   "cell_type": "markdown",
   "id": "0856d789",
   "metadata": {},
   "source": [
    "## 4. 인공지능이 만들어주는 모델\n",
    "\n",
    "위에서 우리는 그래프를 보고 직접 매개변수인 `a`와 `b`를 지정해 주었습니다. 사람이 데이터를 보고 직접 모델을 만들어 준 것이죠. 인공지능은 사람이 하는 일을 대신 해주죠? 인공지능, 더 정확히는 **기계학습 (machine learning)** 은 사람 대신에 데이터를 보고, 데이터를 가장 잘 설명할 수 있는 매개변수를 결정해주는 방법론입니다.\n",
    "\n",
    "그럼, 기계학습은 어떻게 가장 좋은 매개변수를 결정해줄까요? 매개변수가 정해지면 모델의 모양이 결정됩니다. 모델의 모양이 결정되면 모델이 예측한 과학 점수와 $f(x)$와 실제 학생의 과학 점수의 차이를 계산할 수 있게 됩니다. 과학 점수를 잘 예측하는 모델일수록 예측 점수와 실제 점수 사이의 오차가 작을 것입니다. 우리는 모든 데이터에서 발생한 오차의 제곱의 합을 가장 작게 만들어주는 매개변수를 찾아서 사용하게 됩니다. \n",
    "\n",
    "$$a^{*}, b^{*} = \\operatorname*{argmin}\\sum\\limits_{i=1}^{9}\\left( \\text{과학}_i - f(\\text{수학}_i) \\right)^2$$"
   ]
  },
  {
   "cell_type": "markdown",
   "id": "d134eb2e",
   "metadata": {},
   "source": [
    "그럼, 기계학습 모델을 사용하여 매개변수를 찾아볼까요? `torch`라는 것은 기계학습 모델 중에서도 딥러닝 모델을 만들 때 사용하는 패키지입니다. `nn.Linear`는 위에서 본 선형모델을 만들어주는 기능을 합니다. 우리의 경우 독립 변수가 하나, 종속 변수가 하나이기 때문에 `nn.Linear`의 첫 번쨰, 두 번째 인자를 각각 1로 넣어주게 됩니다. 모델이 만들어지면, `academy`에 있는 `train`을 사용해서 모델의 매개변수를 찾아주는 학습을 진행할 수 있습니다. `epochs` 인자는 데이터를 몇 번 반복해서 볼 것인지 결정해주고, `lr`은 매개변수를 얼마나 조금씩 수정해나갈 것인지 결정해주는 인자입니다. "
   ]
  },
  {
   "cell_type": "code",
   "execution_count": 32,
   "id": "9dcc2356",
   "metadata": {},
   "outputs": [
    {
     "data": {
      "application/vnd.jupyter.widget-view+json": {
       "model_id": "16e315db38c841479ad24260120e7a2a",
       "version_major": 2,
       "version_minor": 0
      },
      "text/plain": [
       "Log:   0%|          | 0/3000 [00:00<?, ?it/s]"
      ]
     },
     "metadata": {},
     "output_type": "display_data"
    },
    {
     "name": "stderr",
     "output_type": "stream",
     "text": [
      "IOPub message rate exceeded.\n",
      "The notebook server will temporarily stop sending output\n",
      "to the client in order to avoid crashing it.\n",
      "To change this limit, set the config variable\n",
      "`--NotebookApp.iopub_msg_rate_limit`.\n",
      "\n",
      "Current values:\n",
      "NotebookApp.iopub_msg_rate_limit=1000.0 (msgs/sec)\n",
      "NotebookApp.rate_limit_window=3.0 (secs)\n",
      "\n"
     ]
    }
   ],
   "source": [
    "import torch\n",
    "import torch.nn as nn\n",
    "from academy import train\n",
    "\n",
    "model = nn.Linear(1, 1)\n",
    "train(model, 수학, 과학, epochs=3000, lr=0.001)"
   ]
  },
  {
   "cell_type": "markdown",
   "id": "529b9816",
   "metadata": {},
   "source": [
    "모델의 매개변수는 다음과 같이 불러올 수 있습니다. 독립변수에 곱해지는 매개변수는 `model.weight`에 저장되어 있고, y절편 역할을 하는 매개변수는 `model.bias`에 저장되어 있습니다."
   ]
  },
  {
   "cell_type": "code",
   "execution_count": 33,
   "id": "e9d72552",
   "metadata": {},
   "outputs": [
    {
     "name": "stdout",
     "output_type": "stream",
     "text": [
      "1.0337345600128174 1.002967119216919\n"
     ]
    },
    {
     "data": {
      "text/plain": [
       "[<matplotlib.lines.Line2D at 0x13fa34880>]"
      ]
     },
     "execution_count": 33,
     "metadata": {},
     "output_type": "execute_result"
    },
    {
     "data": {
      "image/png": "[encoded data removed]",
      "text/plain": [
       "<Figure size 432x288 with 1 Axes>"
      ]
     },
     "metadata": {
      "needs_background": "light"
     },
     "output_type": "display_data"
    }
   ],
   "source": [
    "a = model.weight.item()\n",
    "b = model.bias.item()\n",
    "\n",
    "print(a, b)\n",
    "\n",
    "x = np.array([30, 100])\n",
    "y = a * x + b\n",
    "\n",
    "pylab.plot(수학, 과학, 'o')\n",
    "pylab.plot(x, y, 'r-')"
   ]
  },
  {
   "cell_type": "markdown",
   "id": "b1bb0ff4",
   "metadata": {},
   "source": [
    "## 5. 딥러닝이 그리는 사인 곡선\n",
    "지금까지 우리는 하나의 독립변수로 하나의 종속변수를 예측하는 모델을 만들어 보았습니다. 하지만 현실의 데이터는 훨씬 더 많은 독립 변수를 갖고 있습니다. 독립변수가 많아져도 선형모델은 여전히 같은 원리로 종속변수를 예측합니다. 예를 들어 5개의 독립변수를 사용하는 선형모델은 다음 식으로 종속변수를 예측합니다.\n",
    "\n",
    "$$Y=w_1X_1+w_2X_2+w_3X_3+w_4X_4+w_5X_5+w_6$$\n",
    "\n",
    "<br>\n",
    "\n",
    "매개변수 $w_1, \\cdots, w_6$ 중에서 실제 종속변수 값과 모델의 예측값 사이의 오차를 가장 작게 만들어주는 매개변수를 찾게 됩니다. 앞에서 말했던 것처럼 선형모델은 독립변수와 종속변수 사이의 선형관계 밖에 설명하지 못하는 모델입니다. 최근에 많이 대두되고 있는 딥러닝 모델들은 변수 사이의 선형관계를 넘어서 아주 복잡한 관계까지 설명할 수 있습니다. 이번에는 딥러닝으로 사인 곡선을 만들어보도록 하겠습니다.\n",
    "\n",
    "<br>\n",
    "\n",
    "먼저 $0\\le x \\le 2\\pi$를 400등분하여 `x` 변수에 넣고, 각 위치에서 사인값을 `f` 변수에 넣도록 하겠습니다."
   ]
  },
  {
   "cell_type": "code",
   "execution_count": 34,
   "id": "8f70f02f",
   "metadata": {},
   "outputs": [],
   "source": [
    "import numpy as np\n",
    "\n",
    "x = np.linspace(0, 2*np.pi, 400, endpoint=True)\n",
    "f = np.sin(x)"
   ]
  },
  {
   "cell_type": "markdown",
   "id": "54f8c55b",
   "metadata": {},
   "source": [
    "`x`와 `f`를 각각 출력해보면 다음과 같습니다."
   ]
  },
  {
   "cell_type": "code",
   "execution_count": 35,
   "id": "51595eea",
   "metadata": {
    "scrolled": true
   },
   "outputs": [
    {
     "data": {
      "text/plain": [
       "array([0.        , 0.01574733, 0.03149466, 0.04724199, 0.06298933,\n",
       "       0.07873666, 0.09448399, 0.11023132, 0.12597865, 0.14172598,\n",
       "       0.15747332, 0.17322065, 0.18896798, 0.20471531, 0.22046264,\n",
       "       0.23620997, 0.25195731, 0.26770464, 0.28345197, 0.2991993 ,\n",
       "       0.31494663, 0.33069396, 0.3464413 , 0.36218863, 0.37793596,\n",
       "       0.39368329, 0.40943062, 0.42517795, 0.44092528, 0.45667262,\n",
       "       0.47241995, 0.48816728, 0.50391461, 0.51966194, 0.53540927,\n",
       "       0.55115661, 0.56690394, 0.58265127, 0.5983986 , 0.61414593,\n",
       "       0.62989326, 0.6456406 , 0.66138793, 0.67713526, 0.69288259,\n",
       "       0.70862992, 0.72437725, 0.74012459, 0.75587192, 0.77161925,\n",
       "       0.78736658, 0.80311391, 0.81886124, 0.83460857, 0.85035591,\n",
       "       0.86610324, 0.88185057, 0.8975979 , 0.91334523, 0.92909256,\n",
       "       0.9448399 , 0.96058723, 0.97633456, 0.99208189, 1.00782922,\n",
       "       1.02357655, 1.03932389, 1.05507122, 1.07081855, 1.08656588,\n",
       "       1.10231321, 1.11806054, 1.13380787, 1.14955521, 1.16530254,\n",
       "       1.18104987, 1.1967972 , 1.21254453, 1.22829186, 1.2440392 ,\n",
       "       1.25978653, 1.27553386, 1.29128119, 1.30702852, 1.32277585,\n",
       "       1.33852319, 1.35427052, 1.37001785, 1.38576518, 1.40151251,\n",
       "       1.41725984, 1.43300718, 1.44875451, 1.46450184, 1.48024917,\n",
       "       1.4959965 , 1.51174383, 1.52749116, 1.5432385 , 1.55898583,\n",
       "       1.57473316, 1.59048049, 1.60622782, 1.62197515, 1.63772249,\n",
       "       1.65346982, 1.66921715, 1.68496448, 1.70071181, 1.71645914,\n",
       "       1.73220648, 1.74795381, 1.76370114, 1.77944847, 1.7951958 ,\n",
       "       1.81094313, 1.82669047, 1.8424378 , 1.85818513, 1.87393246,\n",
       "       1.88967979, 1.90542712, 1.92117445, 1.93692179, 1.95266912,\n",
       "       1.96841645, 1.98416378, 1.99991111, 2.01565844, 2.03140578,\n",
       "       2.04715311, 2.06290044, 2.07864777, 2.0943951 , 2.11014243,\n",
       "       2.12588977, 2.1416371 , 2.15738443, 2.17313176, 2.18887909,\n",
       "       2.20462642, 2.22037376, 2.23612109, 2.25186842, 2.26761575,\n",
       "       2.28336308, 2.29911041, 2.31485774, 2.33060508, 2.34635241,\n",
       "       2.36209974, 2.37784707, 2.3935944 , 2.40934173, 2.42508907,\n",
       "       2.4408364 , 2.45658373, 2.47233106, 2.48807839, 2.50382572,\n",
       "       2.51957306, 2.53532039, 2.55106772, 2.56681505, 2.58256238,\n",
       "       2.59830971, 2.61405705, 2.62980438, 2.64555171, 2.66129904,\n",
       "       2.67704637, 2.6927937 , 2.70854103, 2.72428837, 2.7400357 ,\n",
       "       2.75578303, 2.77153036, 2.78727769, 2.80302502, 2.81877236,\n",
       "       2.83451969, 2.85026702, 2.86601435, 2.88176168, 2.89750901,\n",
       "       2.91325635, 2.92900368, 2.94475101, 2.96049834, 2.97624567,\n",
       "       2.991993  , 3.00774034, 3.02348767, 3.039235  , 3.05498233,\n",
       "       3.07072966, 3.08647699, 3.10222432, 3.11797166, 3.13371899,\n",
       "       3.14946632, 3.16521365, 3.18096098, 3.19670831, 3.21245565,\n",
       "       3.22820298, 3.24395031, 3.25969764, 3.27544497, 3.2911923 ,\n",
       "       3.30693964, 3.32268697, 3.3384343 , 3.35418163, 3.36992896,\n",
       "       3.38567629, 3.40142362, 3.41717096, 3.43291829, 3.44866562,\n",
       "       3.46441295, 3.48016028, 3.49590761, 3.51165495, 3.52740228,\n",
       "       3.54314961, 3.55889694, 3.57464427, 3.5903916 , 3.60613894,\n",
       "       3.62188627, 3.6376336 , 3.65338093, 3.66912826, 3.68487559,\n",
       "       3.70062293, 3.71637026, 3.73211759, 3.74786492, 3.76361225,\n",
       "       3.77935958, 3.79510691, 3.81085425, 3.82660158, 3.84234891,\n",
       "       3.85809624, 3.87384357, 3.8895909 , 3.90533824, 3.92108557,\n",
       "       3.9368329 , 3.95258023, 3.96832756, 3.98407489, 3.99982223,\n",
       "       4.01556956, 4.03131689, 4.04706422, 4.06281155, 4.07855888,\n",
       "       4.09430622, 4.11005355, 4.12580088, 4.14154821, 4.15729554,\n",
       "       4.17304287, 4.1887902 , 4.20453754, 4.22028487, 4.2360322 ,\n",
       "       4.25177953, 4.26752686, 4.28327419, 4.29902153, 4.31476886,\n",
       "       4.33051619, 4.34626352, 4.36201085, 4.37775818, 4.39350552,\n",
       "       4.40925285, 4.42500018, 4.44074751, 4.45649484, 4.47224217,\n",
       "       4.48798951, 4.50373684, 4.51948417, 4.5352315 , 4.55097883,\n",
       "       4.56672616, 4.58247349, 4.59822083, 4.61396816, 4.62971549,\n",
       "       4.64546282, 4.66121015, 4.67695748, 4.69270482, 4.70845215,\n",
       "       4.72419948, 4.73994681, 4.75569414, 4.77144147, 4.78718881,\n",
       "       4.80293614, 4.81868347, 4.8344308 , 4.85017813, 4.86592546,\n",
       "       4.8816728 , 4.89742013, 4.91316746, 4.92891479, 4.94466212,\n",
       "       4.96040945, 4.97615678, 4.99190412, 5.00765145, 5.02339878,\n",
       "       5.03914611, 5.05489344, 5.07064077, 5.08638811, 5.10213544,\n",
       "       5.11788277, 5.1336301 , 5.14937743, 5.16512476, 5.1808721 ,\n",
       "       5.19661943, 5.21236676, 5.22811409, 5.24386142, 5.25960875,\n",
       "       5.27535608, 5.29110342, 5.30685075, 5.32259808, 5.33834541,\n",
       "       5.35409274, 5.36984007, 5.38558741, 5.40133474, 5.41708207,\n",
       "       5.4328294 , 5.44857673, 5.46432406, 5.4800714 , 5.49581873,\n",
       "       5.51156606, 5.52731339, 5.54306072, 5.55880805, 5.57455539,\n",
       "       5.59030272, 5.60605005, 5.62179738, 5.63754471, 5.65329204,\n",
       "       5.66903937, 5.68478671, 5.70053404, 5.71628137, 5.7320287 ,\n",
       "       5.74777603, 5.76352336, 5.7792707 , 5.79501803, 5.81076536,\n",
       "       5.82651269, 5.84226002, 5.85800735, 5.87375469, 5.88950202,\n",
       "       5.90524935, 5.92099668, 5.93674401, 5.95249134, 5.96823868,\n",
       "       5.98398601, 5.99973334, 6.01548067, 6.031228  , 6.04697533,\n",
       "       6.06272266, 6.07847   , 6.09421733, 6.10996466, 6.12571199,\n",
       "       6.14145932, 6.15720665, 6.17295399, 6.18870132, 6.20444865,\n",
       "       6.22019598, 6.23594331, 6.25169064, 6.26743798, 6.28318531])"
      ]
     },
     "execution_count": 35,
     "metadata": {},
     "output_type": "execute_result"
    }
   ],
   "source": [
    "x"
   ]
  },
  {
   "cell_type": "code",
   "execution_count": 36,
   "id": "5cd711cb",
   "metadata": {
    "scrolled": true
   },
   "outputs": [
    {
     "data": {
      "text/plain": [
       "array([ 0.00000000e+00,  1.57466808e-02,  3.14894568e-02,  4.72244243e-02,\n",
       "        6.29476813e-02,  7.86553291e-02,  9.43434724e-02,  1.10008221e-01,\n",
       "        1.25645691e-01,  1.41252003e-01,  1.56823289e-01,  1.72355687e-01,\n",
       "        1.87845346e-01,  2.03288424e-01,  2.18681091e-01,  2.34019532e-01,\n",
       "        2.49299942e-01,  2.64518532e-01,  2.79671529e-01,  2.94755174e-01,\n",
       "        3.09765729e-01,  3.24699469e-01,  3.39552693e-01,  3.54321717e-01,\n",
       "        3.69002878e-01,  3.83592537e-01,  3.98087075e-01,  4.12482897e-01,\n",
       "        4.26776435e-01,  4.40964144e-01,  4.55042506e-01,  4.69008029e-01,\n",
       "        4.82857251e-01,  4.96586737e-01,  5.10193083e-01,  5.23672914e-01,\n",
       "        5.37022889e-01,  5.50239696e-01,  5.63320058e-01,  5.76260732e-01,\n",
       "        5.89058509e-01,  6.01710215e-01,  6.14212713e-01,  6.26562902e-01,\n",
       "        6.38757721e-01,  6.50794145e-01,  6.62669189e-01,  6.74379909e-01,\n",
       "        6.85923400e-01,  6.97296801e-01,  7.08497291e-01,  7.19522092e-01,\n",
       "        7.30368472e-01,  7.41033739e-01,  7.51515250e-01,  7.61810405e-01,\n",
       "        7.71916651e-01,  7.81831482e-01,  7.91552441e-01,  8.01077115e-01,\n",
       "        8.10403144e-01,  8.19528214e-01,  8.28450063e-01,  8.37166478e-01,\n",
       "        8.45675299e-01,  8.53974414e-01,  8.62061767e-01,  8.69935352e-01,\n",
       "        8.77593215e-01,  8.85033459e-01,  8.92254239e-01,  8.99253763e-01,\n",
       "        9.06030296e-01,  9.12582157e-01,  9.18907723e-01,  9.25005424e-01,\n",
       "        9.30873749e-01,  9.36511241e-01,  9.41916504e-01,  9.47088197e-01,\n",
       "        9.52025036e-01,  9.56725800e-01,  9.61189320e-01,  9.65414492e-01,\n",
       "        9.69400266e-01,  9.73145655e-01,  9.76649730e-01,  9.79911621e-01,\n",
       "        9.82930521e-01,  9.85705680e-01,  9.88236410e-01,  9.90522085e-01,\n",
       "        9.92562136e-01,  9.94356058e-01,  9.95903406e-01,  9.97203797e-01,\n",
       "        9.98256908e-01,  9.99062478e-01,  9.99620307e-01,  9.99930257e-01,\n",
       "        9.99992251e-01,  9.99806273e-01,  9.99372370e-01,  9.98690650e-01,\n",
       "        9.97761280e-01,  9.96584493e-01,  9.95160579e-01,  9.93489892e-01,\n",
       "        9.91572846e-01,  9.89409916e-01,  9.87001640e-01,  9.84348612e-01,\n",
       "        9.81451493e-01,  9.78311000e-01,  9.74927912e-01,  9.71303068e-01,\n",
       "        9.67437367e-01,  9.63331766e-01,  9.58987286e-01,  9.54405002e-01,\n",
       "        9.49586051e-01,  9.44531628e-01,  9.39242986e-01,  9.33721438e-01,\n",
       "        9.27968351e-01,  9.21985153e-01,  9.15773327e-01,  9.09334413e-01,\n",
       "        9.02670009e-01,  8.95781767e-01,  8.88671395e-01,  8.81340656e-01,\n",
       "        8.73791369e-01,  8.66025404e-01,  8.58044688e-01,  8.49851200e-01,\n",
       "        8.41446971e-01,  8.32834086e-01,  8.24014680e-01,  8.14990941e-01,\n",
       "        8.05765106e-01,  7.96339462e-01,  7.86716348e-01,  7.76898148e-01,\n",
       "        7.66887299e-01,  7.56686282e-01,  7.46297627e-01,  7.35723911e-01,\n",
       "        7.24967754e-01,  7.14031825e-01,  7.02918835e-01,  6.91631539e-01,\n",
       "        6.80172738e-01,  6.68545272e-01,  6.56752024e-01,  6.44795920e-01,\n",
       "        6.32679923e-01,  6.20407038e-01,  6.07980309e-01,  5.95402818e-01,\n",
       "        5.82677682e-01,  5.69808058e-01,  5.56797136e-01,  5.43648144e-01,\n",
       "        5.30364341e-01,  5.16949022e-01,  5.03405514e-01,  4.89737174e-01,\n",
       "        4.75947393e-01,  4.62039590e-01,  4.48017212e-01,  4.33883739e-01,\n",
       "        4.19642674e-01,  4.05297549e-01,  3.90851921e-01,  3.76309372e-01,\n",
       "        3.61673508e-01,  3.46947959e-01,  3.32136376e-01,  3.17242433e-01,\n",
       "        3.02269821e-01,  2.87222255e-01,  2.72103465e-01,  2.56917201e-01,\n",
       "        2.41667228e-01,  2.26357328e-01,  2.10991297e-01,  1.95572947e-01,\n",
       "        1.80106099e-01,  1.64594590e-01,  1.49042266e-01,  1.33452984e-01,\n",
       "        1.17830608e-01,  1.02179014e-01,  8.65020820e-02,  7.08036999e-02,\n",
       "        5.50877604e-02,  3.93581605e-02,  2.36188009e-02,  7.87358444e-03,\n",
       "       -7.87358444e-03, -2.36188009e-02, -3.93581605e-02, -5.50877604e-02,\n",
       "       -7.08036999e-02, -8.65020820e-02, -1.02179014e-01, -1.17830608e-01,\n",
       "       -1.33452984e-01, -1.49042266e-01, -1.64594590e-01, -1.80106099e-01,\n",
       "       -1.95572947e-01, -2.10991297e-01, -2.26357328e-01, -2.41667228e-01,\n",
       "       -2.56917201e-01, -2.72103465e-01, -2.87222255e-01, -3.02269821e-01,\n",
       "       -3.17242433e-01, -3.32136376e-01, -3.46947959e-01, -3.61673508e-01,\n",
       "       -3.76309372e-01, -3.90851921e-01, -4.05297549e-01, -4.19642674e-01,\n",
       "       -4.33883739e-01, -4.48017212e-01, -4.62039590e-01, -4.75947393e-01,\n",
       "       -4.89737174e-01, -5.03405514e-01, -5.16949022e-01, -5.30364341e-01,\n",
       "       -5.43648144e-01, -5.56797136e-01, -5.69808058e-01, -5.82677682e-01,\n",
       "       -5.95402818e-01, -6.07980309e-01, -6.20407038e-01, -6.32679923e-01,\n",
       "       -6.44795920e-01, -6.56752024e-01, -6.68545272e-01, -6.80172738e-01,\n",
       "       -6.91631539e-01, -7.02918835e-01, -7.14031825e-01, -7.24967754e-01,\n",
       "       -7.35723911e-01, -7.46297627e-01, -7.56686282e-01, -7.66887299e-01,\n",
       "       -7.76898148e-01, -7.86716348e-01, -7.96339462e-01, -8.05765106e-01,\n",
       "       -8.14990941e-01, -8.24014680e-01, -8.32834086e-01, -8.41446971e-01,\n",
       "       -8.49851200e-01, -8.58044688e-01, -8.66025404e-01, -8.73791369e-01,\n",
       "       -8.81340656e-01, -8.88671395e-01, -8.95781767e-01, -9.02670009e-01,\n",
       "       -9.09334413e-01, -9.15773327e-01, -9.21985153e-01, -9.27968351e-01,\n",
       "       -9.33721438e-01, -9.39242986e-01, -9.44531628e-01, -9.49586051e-01,\n",
       "       -9.54405002e-01, -9.58987286e-01, -9.63331766e-01, -9.67437367e-01,\n",
       "       -9.71303068e-01, -9.74927912e-01, -9.78311000e-01, -9.81451493e-01,\n",
       "       -9.84348612e-01, -9.87001640e-01, -9.89409916e-01, -9.91572846e-01,\n",
       "       -9.93489892e-01, -9.95160579e-01, -9.96584493e-01, -9.97761280e-01,\n",
       "       -9.98690650e-01, -9.99372370e-01, -9.99806273e-01, -9.99992251e-01,\n",
       "       -9.99930257e-01, -9.99620307e-01, -9.99062478e-01, -9.98256908e-01,\n",
       "       -9.97203797e-01, -9.95903406e-01, -9.94356058e-01, -9.92562136e-01,\n",
       "       -9.90522085e-01, -9.88236410e-01, -9.85705680e-01, -9.82930521e-01,\n",
       "       -9.79911621e-01, -9.76649730e-01, -9.73145655e-01, -9.69400266e-01,\n",
       "       -9.65414492e-01, -9.61189320e-01, -9.56725800e-01, -9.52025036e-01,\n",
       "       -9.47088197e-01, -9.41916504e-01, -9.36511241e-01, -9.30873749e-01,\n",
       "       -9.25005424e-01, -9.18907723e-01, -9.12582157e-01, -9.06030296e-01,\n",
       "       -8.99253763e-01, -8.92254239e-01, -8.85033459e-01, -8.77593215e-01,\n",
       "       -8.69935352e-01, -8.62061767e-01, -8.53974414e-01, -8.45675299e-01,\n",
       "       -8.37166478e-01, -8.28450063e-01, -8.19528214e-01, -8.10403144e-01,\n",
       "       -8.01077115e-01, -7.91552441e-01, -7.81831482e-01, -7.71916651e-01,\n",
       "       -7.61810405e-01, -7.51515250e-01, -7.41033739e-01, -7.30368472e-01,\n",
       "       -7.19522092e-01, -7.08497291e-01, -6.97296801e-01, -6.85923400e-01,\n",
       "       -6.74379909e-01, -6.62669189e-01, -6.50794145e-01, -6.38757721e-01,\n",
       "       -6.26562902e-01, -6.14212713e-01, -6.01710215e-01, -5.89058509e-01,\n",
       "       -5.76260732e-01, -5.63320058e-01, -5.50239696e-01, -5.37022889e-01,\n",
       "       -5.23672914e-01, -5.10193083e-01, -4.96586737e-01, -4.82857251e-01,\n",
       "       -4.69008029e-01, -4.55042506e-01, -4.40964144e-01, -4.26776435e-01,\n",
       "       -4.12482897e-01, -3.98087075e-01, -3.83592537e-01, -3.69002878e-01,\n",
       "       -3.54321717e-01, -3.39552693e-01, -3.24699469e-01, -3.09765729e-01,\n",
       "       -2.94755174e-01, -2.79671529e-01, -2.64518532e-01, -2.49299942e-01,\n",
       "       -2.34019532e-01, -2.18681091e-01, -2.03288424e-01, -1.87845346e-01,\n",
       "       -1.72355687e-01, -1.56823289e-01, -1.41252003e-01, -1.25645691e-01,\n",
       "       -1.10008221e-01, -9.43434724e-02, -7.86553291e-02, -6.29476813e-02,\n",
       "       -4.72244243e-02, -3.14894568e-02, -1.57466808e-02, -2.44929360e-16])"
      ]
     },
     "execution_count": 36,
     "metadata": {},
     "output_type": "execute_result"
    }
   ],
   "source": [
    "f"
   ]
  },
  {
   "cell_type": "markdown",
   "id": "1553d5d6",
   "metadata": {},
   "source": [
    "이 많은 데이터들을 눈으로 해석하기는 어렵기 때문에 시각화를 해서 봐보도록 하겠습니다."
   ]
  },
  {
   "cell_type": "code",
   "execution_count": 37,
   "id": "bcd32802",
   "metadata": {},
   "outputs": [
    {
     "data": {
      "text/plain": [
       "[<matplotlib.lines.Line2D at 0x13faaad00>]"
      ]
     },
     "execution_count": 37,
     "metadata": {},
     "output_type": "execute_result"
    },
    {
     "data": {
      "image/png": "[encoded data removed]",
      "text/plain": [
       "<Figure size 432x288 with 1 Axes>"
      ]
     },
     "metadata": {
      "needs_background": "light"
     },
     "output_type": "display_data"
    }
   ],
   "source": [
    "pylab.plot(x, f, 'o')"
   ]
  },
  {
   "cell_type": "markdown",
   "id": "4c015107",
   "metadata": {},
   "source": [
    "노래를 포함한 모든 소리들은 시간에 따른 음의 높낮이로 나타낼 수 있습니다. 음의 높낮이를 일반적으로 신호라고 부릅니다. 이 사인 곡선을 시간에 따라 변하는 신호라고 생각해봅시다. 우리가 이번에 만들 모델은 과거의 10개 신호 값으로 다음 신호를 예측하는 모델을 만들어보겠습니다. 우리의 모델을 함수 $g$라고 하면 $g$는 과거 10개의 신호값을 받아서 다음 신호값을 출력해주는 함수입니다.\n",
    "\n",
    "$$ f_{t+1} \\approx g\\left(f_{t}, f_{t-1}, \\cdots, f_{t-9} \\right)$$\n",
    "\n",
    "<br>\n",
    "\n",
    "$f_{t+1}$은 $t+1$ 시점의 신호값이고, $g$는 과거 10개의 신호 $f_{t}, f_{t-1}, \\cdots, f_{t-9}$를 입력 받아서 최대한 $f_{t+1}$을 정확하게 예측해야 하는 모델입니다. 아래의 코드 셀에는 400개의 신호값에서 순차적으로 10개씩 떼어내서 `X` 변수에 저장하고, 다음 신호를 `y` 변수에 저장해놓았습니다. 우리의 딥러닝 모델은 `X`와 `y`를 여러번 보면서 가장 좋은 매개변수를 찾아낼 것입니다. "
   ]
  },
  {
   "cell_type": "code",
   "execution_count": 38,
   "id": "5489510e",
   "metadata": {},
   "outputs": [],
   "source": [
    "k = 10\n",
    "\n",
    "X = []\n",
    "y = []\n",
    "for i in range(400 - k):\n",
    "    X.append(f[i:i+k])\n",
    "    y.append(f[i+k])\n",
    "X = np.array(X)\n",
    "y = np.array(y).reshape((-1, 1))"
   ]
  },
  {
   "cell_type": "markdown",
   "id": "3852e66e",
   "metadata": {},
   "source": [
    "다음 셀은 딥러닝 모델은 만들어 내는 코드입니다. 10개의 신호값을 입력 받아서 이를 32개의 신호로 변환해주고, 또 다시 32개의 신호로 변환해준 후 하나의 신호를 예측해주게 됩니다. 중간에 있는 `nn.ReLU`는 변수 사이의 더 복잡한 관계를 설명하기 위해 꼭 필요한 함수입니다."
   ]
  },
  {
   "cell_type": "code",
   "execution_count": 39,
   "id": "98124aa8",
   "metadata": {},
   "outputs": [],
   "source": [
    "hidden = 32\n",
    "model = nn.Sequential(\n",
    "    nn.Linear(k, hidden),\n",
    "    nn.ReLU(),\n",
    "    nn.Linear(hidden, hidden),\n",
    "    nn.ReLU(),\n",
    "    nn.Linear(hidden, 1)\n",
    ")"
   ]
  },
  {
   "cell_type": "markdown",
   "id": "5b1e973e",
   "metadata": {},
   "source": [
    "`train`을 사용하며 모델을 학습시켜 봅시다."
   ]
  },
  {
   "cell_type": "code",
   "execution_count": 40,
   "id": "7af33450",
   "metadata": {},
   "outputs": [
    {
     "data": {
      "application/vnd.jupyter.widget-view+json": {
       "model_id": "6a0cb3edb49545d18b9f127090c3a166",
       "version_major": 2,
       "version_minor": 0
      },
      "text/plain": [
       "Log:   0%|          | 0/500 [00:00<?, ?it/s]"
      ]
     },
     "metadata": {},
     "output_type": "display_data"
    }
   ],
   "source": [
    "train(model, X, y, epochs=500, lr=0.001)"
   ]
  },
  {
   "cell_type": "markdown",
   "id": "7965d19d",
   "metadata": {},
   "source": [
    "훈련이 완료되면, 모델에 처음 10개의 신호값을 주고 다음 신호값을 예측할 수 있습니다. 예측한 신호값 포함하여 최근 10개의 신호값을 다시 모델에 입력하면 그 다음 신호값을 예측할 수 있습니다. 이 과정을 반복하면, 처음 10개의 신호값으로 더 먼 미래의 신호를 예측하여 만들어낼 수 있습니다.\n",
    "\n",
    "$$\\begin{matrix}\n",
    "g\\left(f_1, f_2, \\cdots, f_{10}\\right) & \\rightarrow & \\hat{f}_{11} \\\\\n",
    "g\\left(f_2, f_3, \\cdots, \\hat{f}_{11}\\right) & \\rightarrow & \\hat{f}_{12} \\\\\n",
    "g\\left(f_3, f_4, \\cdots, \\hat{f}_{12}\\right) & \\rightarrow & \\hat{f}_{13} \\\\\n",
    "\\vdots & & \\vdots\n",
    "\\end{matrix}$$\n",
    "\n",
    "`academy`의 `forecast`를 사용해서 처음 10개의 신호값에서 시작해서 미래 사인곡선을 예측해볼까요?"
   ]
  },
  {
   "cell_type": "code",
   "execution_count": 41,
   "id": "107dc780",
   "metadata": {},
   "outputs": [
    {
     "data": {
      "text/plain": [
       "[<matplotlib.lines.Line2D at 0x13fe4c550>]"
      ]
     },
     "execution_count": 41,
     "metadata": {},
     "output_type": "execute_result"
    },
    {
     "data": {
      "image/png": "[encoded data removed]",
      "text/plain": [
       "<Figure size 432x288 with 1 Axes>"
      ]
     },
     "metadata": {
      "needs_background": "light"
     },
     "output_type": "display_data"
    }
   ],
   "source": [
    "from academy import forecast\n",
    "\n",
    "x = torch.from_numpy(X[0]).float()\n",
    "pylab.plot(forecast(model, x, 400))"
   ]
  },
  {
   "cell_type": "markdown",
   "id": "68a6747b",
   "metadata": {},
   "source": [
    "우리가 기대했던 사인곡선이 아니군요. 아직 딥러닝 모델이 충분히 학습되지 않았기 때문입니다. `lr`을 더 줄여서 학습을 해보겠습니다."
   ]
  },
  {
   "cell_type": "code",
   "execution_count": 42,
   "id": "ee2ea79d",
   "metadata": {},
   "outputs": [
    {
     "data": {
      "application/vnd.jupyter.widget-view+json": {
       "model_id": "e07cc29d36514d01bb04d0889fe16d0c",
       "version_major": 2,
       "version_minor": 0
      },
      "text/plain": [
       "Log:   0%|          | 0/500 [00:00<?, ?it/s]"
      ]
     },
     "metadata": {},
     "output_type": "display_data"
    }
   ],
   "source": [
    "train(model, X, y, epochs=500, lr=0.0001)"
   ]
  },
  {
   "cell_type": "markdown",
   "id": "81e63e1f",
   "metadata": {},
   "source": [
    "완벽하지는 않지만 사인곡선을 얼추 비슷하게 그려내게 되었습니다!! 딥러닝 모델은 사인함수가 어떻게 생겼는지 전혀 모릅니다. 그런데 데이터만 보고 사인함수가 어떻게 생겼을지 만들어 본 것입니다. 이처럼 딥러닝은 데이터만 주어진다면, 데이터를 만들어 낸 알 수 없는 함수를 만들어낼 수 있습니다."
   ]
  },
  {
   "cell_type": "code",
   "execution_count": 43,
   "id": "1bf5c69a",
   "metadata": {},
   "outputs": [
    {
     "data": {
      "text/plain": [
       "[<matplotlib.lines.Line2D at 0x13febf850>]"
      ]
     },
     "execution_count": 43,
     "metadata": {},
     "output_type": "execute_result"
    },
    {
     "data": {
      "image/png": "[encoded data removed]",
      "text/plain": [
       "<Figure size 432x288 with 1 Axes>"
      ]
     },
     "metadata": {
      "needs_background": "light"
     },
     "output_type": "display_data"
    }
   ],
   "source": [
    "x = torch.from_numpy(X[0]).float()\n",
    "pylab.plot(forecast(model, x, 400))"
   ]
  }
 ],
 "metadata": {
  "kernelspec": {
   "display_name": "Python 3 (ipykernel)",
   "language": "python",
   "name": "python3"
  },
  "language_info": {
   "codemirror_mode": {
    "name": "ipython",
    "version": 3
   },
   "file_extension": ".py",
   "mimetype": "text/x-python",
   "name": "python",
   "nbconvert_exporter": "python",
   "pygments_lexer": "ipython3",
   "version": "3.8.12"
  },
  "vscode": {
   "interpreter": {
    "hash": "e1315e6714f2518a6216a6eec3b047587d10875bf19b853b35d3e5c84c569e2a"
   }
  }
 },
 "nbformat": 4,
 "nbformat_minor": 5
}

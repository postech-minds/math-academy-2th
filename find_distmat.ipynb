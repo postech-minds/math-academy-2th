{
 "cells": [
  {
   "cell_type": "code",
   "execution_count": 1,
   "metadata": {},
   "outputs": [],
   "source": [
    "songname = 'daechita'\n",
    "\n",
    "input_info = songname + '_info.txt'\n",
    "output_allnode = songname + '_allnode.txt'\n",
    "output_nodelist = songname + '_nodelist.txt'\n",
    "output_distmat = songname + '_distmat.txt'\n",
    "\n",
    "\n",
    "f = open(input_info,'r'); l = len(f.readlines())\n",
    "f = open(input_info,'r')\n",
    "\n",
    "s = [];\n",
    "for i in range(l):\n",
    "    s.append(f.readline())\n",
    "\n",
    "p = [];\n",
    "for j in range(l):\n",
    "    t = s[j].split('\"')\n",
    "    p.append([\n",
    "        int(t[1]),\n",
    "        int(t[3]),\n",
    "        int(t[5])\n",
    "    ])\n",
    "\n",
    "r = [\n",
    "        [ p[0][0], p[0][2] - p[0][1] ]\n",
    "    ];\n",
    "a = p[0][2]\n",
    "for i in range(1,l):\n",
    "    b = p[i][1]\n",
    "    if a != b:\n",
    "        r.append(\n",
    "            [ 0, b - a ]\n",
    "        )\n",
    "    r.append(\n",
    "        [ p[i][0], p[i][2] - p[i][1] ]\n",
    "    )\n",
    "    a = p[i][2]\n",
    "\n",
    "q = []\n",
    "#Convert data format.\n",
    "notes = ['C3', 'C#3', 'D3', 'D#3', 'E3', 'F3', 'F#3', 'G3', 'G#3', 'A3', 'A#3', 'B3', 'C4', 'C#4', 'D4', 'D#4', 'E4', 'F4', 'F#4', 'G4', 'G#4', 'A4', 'A#4', 'B4', 'C5', 'C#5', 'D5', 'D#5', 'E5', 'F5', 'F#5', 'G5', 'G#5', 'A5', 'A#5', 'B5', 'C6', 'C#6', 'D6', 'D#6', 'E6', 'F6', 'F#6', 'G6', 'G#6', 'A6', 'A#6', 'B6']\n",
    "pitch_aria = [83, 82, 81, 80, 79, 78, 77, 76, 75, 74, 73, 72, 71, 70, 69, 68, 67, 66, 65, 64, 63, 62, 61, 60, 59, 58, 57, 56, 55, 54, 53, 52, 51, 50, 49, 48, 47, 46, 45, 44, 43, 42, 41, 40, 39, 38, 37, 36]\n",
    "pitch = [131, 139, 147, 156, 165, 175, 185, 196, 208, 220, 233, 247, 262, 277, 294, 311, 330, 349, 370, 392, 415, 440, 466, 494, 523, 554, 587, 622, 659, 698, 740, 784, 831, 880, 932, 988, 1047, 1109, 1175, 1245, 1319, 1397, 1480, 1568, 1661, 1760, 1865, 1976]\n",
    "\n",
    "for i in range(len(r)):\n",
    "    pit = r[i][0]\n",
    "    duration = r[i][1]\n",
    "    if pit == 0: # rest\n",
    "        pit = 0\n",
    "    else:\n",
    "        for j in range(len(pitch_aria)):\n",
    "            if pit == pitch_aria[j]:\n",
    "                pit = pitch[j]\n",
    "                note  = notes[j]\n",
    "                break\n",
    "        else:\n",
    "            print ('Something is wrong', pit)\n",
    "    duration = duration/160 \n",
    "    q.append([pit,duration])\n",
    "         \n",
    "\n",
    "#Convert pitch.duration\n",
    "o = []\n",
    "for i in range(len(q)):\n",
    "    o.append(q[i][0] + q[i][1]/100.)\n",
    "\n",
    "with open(output_allnode,'w') as f:\n",
    "    for node in o:\n",
    "        f.write('%s\\n' % node)\n",
    "\n",
    "n = len(o)\n",
    "nodelist = [o[0]]\n",
    "for i in range(n):\n",
    "    if not(o[i] in nodelist):\n",
    "        nodelist.append(o[i])\n",
    "\n",
    "with open(output_nodelist,'w') as f:\n",
    "    for node in nodelist:\n",
    "        f.write('%s\\n' % node)   \n",
    "        \n",
    "###############################################################################\n",
    "### FIND DIST_MAT\n",
    "        \n",
    "import networkx as nx\n",
    "from sympy import zeros\n",
    "import numpy as np\n",
    "\n",
    "L = np.loadtxt(output_allnode)\n",
    "\n",
    "G = nx.Graph()\n",
    "G.add_nodes_from(L)\n",
    "\n",
    "for i in range(len(L)-1):\n",
    "    if L[i] != L[i+1]:\n",
    "        e0 = L[i]\n",
    "        e1 = L[i+1]\n",
    "        if G.has_edge(e0,e1): \n",
    "            G[e0][e1]['weight'] += 1\n",
    "        else:\n",
    "            G.add_edge(e0,e1,weight=1)\n",
    "        \n",
    "# find distance matrix\n",
    "nodelist = list(G.nodes)\n",
    "\n",
    "distmat = zeros(len(G.nodes))\n",
    "for i in range(len(G.nodes)):\n",
    "    for j in range(i,len(G.nodes)):\n",
    "        if j == i:\n",
    "            distmat[i,j] = 0\n",
    "        else:\n",
    "            path = nx.shortest_path(G,nodelist[i],nodelist[j]) # shortest_path\n",
    "            for k in range(len(path)-1):\n",
    "                distmat[i,j] += 1/G[path[k]][path[k+1]]['weight']\n",
    "        distmat[j,i] = distmat[i,j]\n",
    "\n",
    "# write distance matrix to a file\n",
    "mat = np.matrix(distmat)\n",
    "with open(output_distmat,'w') as f:\n",
    "    for line in mat:\n",
    "        np.savetxt(f,line,fmt='%.15f')"
   ]
  },
  {
   "cell_type": "code",
   "execution_count": 2,
   "metadata": {},
   "outputs": [
    {
     "data": {
      "text/plain": [
       "56"
      ]
     },
     "execution_count": 2,
     "metadata": {},
     "output_type": "execute_result"
    }
   ],
   "source": [
    "len(nodelist)"
   ]
  },
  {
   "cell_type": "code",
   "execution_count": 3,
   "metadata": {},
   "outputs": [
    {
     "data": {
      "text/plain": [
       "571"
      ]
     },
     "execution_count": 3,
     "metadata": {},
     "output_type": "execute_result"
    }
   ],
   "source": [
    "len(L)"
   ]
  },
  {
   "cell_type": "code",
   "execution_count": null,
   "metadata": {},
   "outputs": [],
   "source": [
    "#0.24 이 한 정간"
   ]
  }
 ],
 "metadata": {
  "kernelspec": {
   "display_name": "Python 3.8.12 ('torch')",
   "language": "python",
   "name": "python3"
  },
  "language_info": {
   "codemirror_mode": {
    "name": "ipython",
    "version": 3
   },
   "file_extension": ".py",
   "mimetype": "text/x-python",
   "name": "python",
   "nbconvert_exporter": "python",
   "pygments_lexer": "ipython3",
   "version": "3.8.12"
  },
  "vscode": {
   "interpreter": {
    "hash": "e1315e6714f2518a6216a6eec3b047587d10875bf19b853b35d3e5c84c569e2a"
   }
  }
 },
 "nbformat": 4,
 "nbformat_minor": 4
}
